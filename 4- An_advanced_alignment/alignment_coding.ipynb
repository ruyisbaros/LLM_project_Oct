{
 "cells": [
  {
   "cell_type": "code",
   "execution_count": 35,
   "metadata": {},
   "outputs": [],
   "source": [
    "import os, sys\n",
    "import ipdb  # for debugging\n",
    "from tqdm import tqdm\n",
    "from datetime import datetime\n",
    "#import platform, shutil  # detect platform type\n",
    "import requests, zipfile, io\n",
    "#import math\n",
    "from typing import List, Dict, Union\n",
    "import numpy as np\n",
    "\n",
    "# Pytorch\n",
    "import torch\n",
    "import torch.nn as nn\n",
    "from torch.nn import functional as F\n",
    "#from torch.nn import DataParallel\n",
    "\n",
    "import sentencepiece as spm  # For the tokenizer\n",
    "import transformers \n",
    "from datasets import load_dataset, load_from_disk\n",
    "\n",
    "# These lines improve performance for Ampere Architecture (e.g: A100s)\n",
    "torch.backends.cuda.matmul.allow_tf32 = True  # allow tf32 on matmul\n",
    "torch.backends.cudnn.allow_tf32 = True  # allow tf32 on cudnn\n",
    "# Empty GPU cache memory\n",
    "torch.cuda.empty_cache()"
   ]
  },
  {
   "cell_type": "markdown",
   "metadata": {},
   "source": [
    "### 1-) Parameters"
   ]
  },
  {
   "cell_type": "code",
   "execution_count": 36,
   "metadata": {},
   "outputs": [
    {
     "name": "stdout",
     "output_type": "stream",
     "text": [
      "device: You will be using:  cuda\n"
     ]
    }
   ],
   "source": [
    "batch_size = 1\n",
    "epochs = 3 # number of iterations\n",
    "lr = 6e-1\n",
    "lr_warmup_steps = 100\n",
    "context = 1024\n",
    "alpha = 0.5 # weight for the ORPO odds ratio\n",
    "prompt_max_size = 512 # limit for the prompt part of the interaction, answer length of our model\n",
    "complie = False \n",
    "dtype = torch.bfloat16\n",
    "log_iters = 50\n",
    "\n",
    "# HYPERPARAMETERS\n",
    "dropout = 0.0\n",
    "grad_clip = 1.0\n",
    "weight_decay = 0.0\n",
    "\n",
    "# DEVICE - Set device to GPU or CPU (use GPU definitely)\n",
    "device = \"cuda\" if torch.cuda.is_available() else \"cpu\"\n",
    "print(\"device: You will be using: \", device)\n",
    "\n",
    "#Dataset paths\n",
    "dataset_path = \"data/orpo_dataset\"\n",
    "dataset_name = \"mlabonne/orpo-dpo-mix-40k\"\n",
    "tokenizer_path = \"tokenizers/tok16384\"\n",
    "checkpoint_dir = \"models/\""
   ]
  },
  {
   "cell_type": "markdown",
   "metadata": {},
   "source": [
    "### 2-) Logging "
   ]
  },
  {
   "cell_type": "code",
   "execution_count": 37,
   "metadata": {},
   "outputs": [
    {
     "data": {
      "text/html": [
       "Finishing last run (ID:ayes0bnl) before initializing another..."
      ],
      "text/plain": [
       "<IPython.core.display.HTML object>"
      ]
     },
     "metadata": {},
     "output_type": "display_data"
    },
    {
     "data": {
      "application/vnd.jupyter.widget-view+json": {
       "model_id": "2a89ab28cafd4bb1a70dc6ff8473c870",
       "version_major": 2,
       "version_minor": 0
      },
      "text/plain": [
       "VBox(children=(Label(value='0.006 MB of 0.006 MB uploaded\\r'), FloatProgress(value=1.0, max=1.0)))"
      ]
     },
     "metadata": {},
     "output_type": "display_data"
    },
    {
     "data": {
      "text/html": [
       " View run <strong style=\"color:#cdcd00\">align_test-run20241017-191657</strong> at: <a href='https://wandb.ai/ahmet-erdonmez77-dci/align_test/runs/ayes0bnl' target=\"_blank\">https://wandb.ai/ahmet-erdonmez77-dci/align_test/runs/ayes0bnl</a><br/> View project at: <a href='https://wandb.ai/ahmet-erdonmez77-dci/align_test' target=\"_blank\">https://wandb.ai/ahmet-erdonmez77-dci/align_test</a><br/>Synced 5 W&B file(s), 0 media file(s), 0 artifact file(s) and 0 other file(s)"
      ],
      "text/plain": [
       "<IPython.core.display.HTML object>"
      ]
     },
     "metadata": {},
     "output_type": "display_data"
    },
    {
     "data": {
      "text/html": [
       "Find logs at: <code>.\\wandb\\run-20241017_191657-ayes0bnl\\logs</code>"
      ],
      "text/plain": [
       "<IPython.core.display.HTML object>"
      ]
     },
     "metadata": {},
     "output_type": "display_data"
    },
    {
     "data": {
      "text/html": [
       "Successfully finished last run (ID:ayes0bnl). Initializing new run:<br/>"
      ],
      "text/plain": [
       "<IPython.core.display.HTML object>"
      ]
     },
     "metadata": {},
     "output_type": "display_data"
    },
    {
     "data": {
      "text/html": [
       "Tracking run with wandb version 0.18.3"
      ],
      "text/plain": [
       "<IPython.core.display.HTML object>"
      ]
     },
     "metadata": {},
     "output_type": "display_data"
    },
    {
     "data": {
      "text/html": [
       "Run data is saved locally in <code>c:\\Users\\User\\Desktop\\ML_Bootcamp\\LLM_spain\\4- An_advanced_alignment\\wandb\\run-20241017_191709-ew1dli1z</code>"
      ],
      "text/plain": [
       "<IPython.core.display.HTML object>"
      ]
     },
     "metadata": {},
     "output_type": "display_data"
    },
    {
     "data": {
      "text/html": [
       "Syncing run <strong><a href='https://wandb.ai/ahmet-erdonmez77-dci/align_test/runs/ew1dli1z' target=\"_blank\">align_test-run20241017-191709</a></strong> to <a href='https://wandb.ai/ahmet-erdonmez77-dci/align_test' target=\"_blank\">Weights & Biases</a> (<a href='https://wandb.me/run' target=\"_blank\">docs</a>)<br/>"
      ],
      "text/plain": [
       "<IPython.core.display.HTML object>"
      ]
     },
     "metadata": {},
     "output_type": "display_data"
    },
    {
     "data": {
      "text/html": [
       " View project at <a href='https://wandb.ai/ahmet-erdonmez77-dci/align_test' target=\"_blank\">https://wandb.ai/ahmet-erdonmez77-dci/align_test</a>"
      ],
      "text/plain": [
       "<IPython.core.display.HTML object>"
      ]
     },
     "metadata": {},
     "output_type": "display_data"
    },
    {
     "data": {
      "text/html": [
       " View run at <a href='https://wandb.ai/ahmet-erdonmez77-dci/align_test/runs/ew1dli1z' target=\"_blank\">https://wandb.ai/ahmet-erdonmez77-dci/align_test/runs/ew1dli1z</a>"
      ],
      "text/plain": [
       "<IPython.core.display.HTML object>"
      ]
     },
     "metadata": {},
     "output_type": "display_data"
    }
   ],
   "source": [
    "project_name = \"align_test\"\n",
    "wandb_log = True\n",
    "wandb_project = project_name\n",
    "# wandb_run_name = \"align_test-run\"\n",
    "wandb_run_name = \"align_test-run\" + datetime.now().strftime(\"%Y%m%d-%H%M%S\")\n",
    "\n",
    "if wandb_log:\n",
    "    import wandb\n",
    "    wandb.init(project=wandb_project, name=wandb_run_name)\n",
    "    "
   ]
  },
  {
   "cell_type": "markdown",
   "metadata": {},
   "source": [
    "### 3-) Load Tokenizer if it exists, otherwise tokenize from scratch"
   ]
  },
  {
   "cell_type": "code",
   "execution_count": 38,
   "metadata": {},
   "outputs": [],
   "source": [
    "# load tokenizer with Huggingface format\n",
    "tokenizer = transformers.AutoTokenizer.from_pretrained(tokenizer_path)\n",
    "\n",
    "# set interaction template\n",
    "tokenizer.chat_template = \"{% for message in messages %}{% if message['role'] == 'user' %}\\n{{ '<|user|>\\n' + message['content'] + eos_token }}\\n{% elif message['role'] == 'system' %}\\n{{ '<|system|>\\n' + message['content'] + eos_token }}\\n{% elif message['role'] == 'assistant' %}\\n{{ '<|assistant|>\\n'  + message['content'] + eos_token }}\\n{% endif %}\\n{% if loop.last and add_generation_prompt %}\\n{{ '<|assistant|>' }}\\n{% endif %}\\n{% endfor %}\"\n",
    "\n",
    "# Make padding token equal to the end of sentence token (which has id of 2 in this case)\n",
    "tokenizer.pad_token = tokenizer.eos_token\n",
    "\n",
    "if os.path.exists(dataset_path):\n",
    "    dataset = load_from_disk(dataset_path)\n",
    "# IF DATASET DOES NOT EXIST, DO BELOW (we learn do it by ourselves)\n",
    "else:\n",
    "    # download and load dataset\n",
    "    print(\"Downloading and filtering dataset...\")\n",
    "    dataset = load_dataset(dataset_name)\n",
    "    dataset = dataset.filter(lambda r: r[\"source\"] != \"toxic-dpo-v0.2\")\n",
    "    \n",
    "    print(dataset.column_names)\n",
    "    \n",
    "    # Avoid entries longer than prompt_max_size (512). \n",
    "    # Because we want prompt + answer to fit the total context (1024)\n",
    "    def filter_dataset(examples):\n",
    "        # examples['chosen'][:-1] picks the prompt minus the answer\n",
    "        prompt_length = tokenizer.apply_chat_template(\n",
    "            examples[\"chosen\"][:-1],\n",
    "            tokenize=True,\n",
    "            add_generation_prompt=True,\n",
    "            return_tensors=\"pt\",\n",
    "        ).size(-1)\n",
    "        # Preserve only samples that have a prompt smaller than prompt_max_size\n",
    "        if prompt_length < prompt_max_size:\n",
    "            return True\n",
    "        else:\n",
    "            return False\n",
    "    \n",
    "    # process the dataset\n",
    "    \n",
    "    print(\"Processing dataset...\")\n",
    "    \n",
    "    def process_dataset(examples):\n",
    "        prompt = [tokenizer.apply_chat_template(item[:-1], tokenize=False, add_generation_prompt=True)for item in examples[\"chosen\"]]\n",
    "        chosen =[tokenizer.apply_chat_template(item , tokenize=False) for item in examples[\"chosen\"]]\n",
    "        rejected =[tokenizer.apply_chat_template(item , tokenize=False) for item in examples[\"rejected\"]]\n",
    "        #ipdb.set_trace()\n",
    "        # Let's tokenize above\n",
    "        inputs = tokenizer(prompt, max_length=context, padding=\"max_length\", truncation=True, return_tensors=\"pt\")\n",
    "        positive_labels = tokenizer(chosen, max_length=context, padding=\"max_length\", truncation=True, return_tensors=\"pt\")\n",
    "        negative_labels = tokenizer(rejected, max_length=context, padding=\"max_length\", truncation=True, return_tensors=\"pt\")\n",
    "        \n",
    "        inputs[\"positive_input_ids\"] = positive_labels[\"input_ids\"]\n",
    "        inputs[\"positive_attention_mask\"] = positive_labels[\"attention_mask\"]\n",
    "        \n",
    "        inputs[\"negative_input_ids\"] = negative_labels[\"input_ids\"]\n",
    "        inputs[\"negative_attention_mask\"] = negative_labels[\"attention_mask\"]\n",
    "        \n",
    "        return inputs\n",
    "    \n",
    "    \n",
    "    \n",
    "    dataset = dataset.filter(filter_dataset)\n",
    "    \n",
    "    dataset = dataset.map(process_dataset, batched=True, num_proc=1, remove_columns=dataset.column_names['train'])\n",
    "        \n",
    "    dataset.save_to_disk(dataset_path)"
   ]
  },
  {
   "cell_type": "code",
   "execution_count": 39,
   "metadata": {},
   "outputs": [
    {
     "data": {
      "text/plain": [
       "Dataset({\n",
       "    features: ['input_ids', 'token_type_ids', 'attention_mask', 'positive_input_ids', 'positive_attention_mask', 'negative_input_ids', 'negative_attention_mask'],\n",
       "    num_rows: 38550\n",
       "})"
      ]
     },
     "execution_count": 39,
     "metadata": {},
     "output_type": "execute_result"
    }
   ],
   "source": [
    "dataset"
   ]
  },
  {
   "cell_type": "code",
   "execution_count": null,
   "metadata": {},
   "outputs": [],
   "source": []
  }
 ],
 "metadata": {
  "kernelspec": {
   "display_name": "text_sum",
   "language": "python",
   "name": "python3"
  },
  "language_info": {
   "codemirror_mode": {
    "name": "ipython",
    "version": 3
   },
   "file_extension": ".py",
   "mimetype": "text/x-python",
   "name": "python",
   "nbconvert_exporter": "python",
   "pygments_lexer": "ipython3",
   "version": "3.12.7"
  }
 },
 "nbformat": 4,
 "nbformat_minor": 2
}
