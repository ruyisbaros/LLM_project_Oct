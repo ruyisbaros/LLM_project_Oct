{
 "cells": [
  {
   "cell_type": "code",
   "execution_count": 2,
   "metadata": {},
   "outputs": [],
   "source": [
    "import torch\n",
    "import os\n",
    "import sentencepiece as spm"
   ]
  },
  {
   "cell_type": "markdown",
   "metadata": {},
   "source": [
    "- We will use BPE (Byte Pair Encoding) for tokenization, and the pre-trained model from Hugging Face Transformers."
   ]
  },
  {
   "cell_type": "code",
   "execution_count": 4,
   "metadata": {},
   "outputs": [
    {
     "name": "stdout",
     "output_type": "stream",
     "text": [
      "Tokenizer trained successfully.\n"
     ]
    }
   ],
   "source": [
    "vocab_size = 4096\n",
    "\n",
    "spm.SentencePieceTrainer.train(\n",
    "    input=\"data/wiki.txt\",\n",
    "    model_prefix=\"data/my_wiki_tokenizer\",\n",
    "    model_type=\"bpe\",\n",
    "    vocab_size=vocab_size,\n",
    "    self_test_sample_size=0,\n",
    "    input_format=\"text\",\n",
    "    character_coverage=0.995, # 99.5% of most frequent characters are kept\n",
    "    num_threads=os.cpu_count(),\n",
    "    split_digits=True,\n",
    "    allow_whitespace_only_pieces=True,\n",
    "    byte_fallback=True,\n",
    "    unk_surface=r\" \\342\\201\\207 \",\n",
    "    normalization_rule_name = \"identity\"\n",
    "    )\n",
    "\n",
    "print(\"Tokenizer trained successfully.\")"
   ]
  },
  {
   "cell_type": "code",
   "execution_count": null,
   "metadata": {},
   "outputs": [],
   "source": []
  }
 ],
 "metadata": {
  "kernelspec": {
   "display_name": "text_sum",
   "language": "python",
   "name": "python3"
  },
  "language_info": {
   "codemirror_mode": {
    "name": "ipython",
    "version": 3
   },
   "file_extension": ".py",
   "mimetype": "text/x-python",
   "name": "python",
   "nbconvert_exporter": "python",
   "pygments_lexer": "ipython3",
   "version": "3.12.7"
  }
 },
 "nbformat": 4,
 "nbformat_minor": 2
}
