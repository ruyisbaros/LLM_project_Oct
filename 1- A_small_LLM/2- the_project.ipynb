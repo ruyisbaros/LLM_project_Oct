{
 "cells": [
  {
   "cell_type": "code",
   "execution_count": 3,
   "metadata": {},
   "outputs": [],
   "source": [
    "import os, sys\n",
    "import ipdb  # for debugging\n",
    "from tqdm import tqdm\n",
    "from datetime import datetime\n",
    "import platform, shutil  # detect platform type\n",
    "import requests, zipfile, io\n",
    "import math\n",
    "\n",
    "# Pytorch\n",
    "import torch\n",
    "import torch.nn as nn\n",
    "from torch.nn import functional as F\n",
    "from torch.nn import DataParallel\n",
    "\n",
    "import sentencepiece as spm  # For the tokenizer\n",
    "\n",
    "# These lines improve performance for Ampere Architecture (e.g: A100s)\n",
    "torch.backends.cuda.matmul.allow_tf32 = True  # allow tf32 on matmul\n",
    "torch.backends.cudnn.allow_tf32 = True  # allow tf32 on cudnn\n",
    "# Empty GPU cache memory\n",
    "torch.cuda.empty_cache()"
   ]
  },
  {
   "cell_type": "code",
   "execution_count": 5,
   "metadata": {},
   "outputs": [
    {
     "name": "stdout",
     "output_type": "stream",
     "text": [
      "Using device: cuda\n"
     ]
    }
   ],
   "source": [
    "# Transformers encoder inputs will be (8, 512, 384) # 8 batches, 512 features/token each iteration, 384 token vector\n",
    "batch_size = 8  # number of samples in each iteration\n",
    "context_size = 512  # how many words/tokens will be taken each iteration\n",
    "embedded_size = 384  # vector size for the each token\n",
    "n_layers = 7  # number of layers in the encoder layer\n",
    "n_heads = 8  # number of heads in the multi-head attention mechanism\n",
    "BIAS = True  # if True, add bias to the output of the linear layer\n",
    "# Hyperparameters\n",
    "lr = 3e-4\n",
    "dropout = 0.05  # randomly zero out some input units with probability dropout. This avoids overfitting.\n",
    "weight_decay = 0.01  # regularization parameter for weight decay. Smaller values will result in stronger regularization. like L1 or L2 regularization.\n",
    "grad_clip = 1.0  # avoid exploding gradients.\n",
    "# TRAINING Parameters\n",
    "train_iters = 10000\n",
    "eval_interval = (\n",
    "    50  # each 50 iterations, the model will be evaluated on the validation set\n",
    ")\n",
    "eval_iters = 3\n",
    "compile = False  # if True, the model will be compiled before training\n",
    "checkpoint_dir = \"models/\"  # Where do we store checkpoints?\n",
    "checkpoint_fn = \"latest.pt\"\n",
    "# Name of checkpoint file to be saved during training\n",
    "checkpoint_load_fn = \"latest.pt\"\n",
    "load_pretrained = False  # Do we want to load a pretrained model to continue training?\n",
    "dtype = torch.bfloat16  # data type for the model\n",
    "# MODE\n",
    "inference = False  # if True, the model will be used for inference\n",
    "device = \"cuda\" if torch.cuda.is_available() else \"cpu\"\n",
    "print(f\"Using device: {device}\")"
   ]
  },
  {
   "cell_type": "code",
   "execution_count": null,
   "metadata": {},
   "outputs": [],
   "source": []
  }
 ],
 "metadata": {
  "kernelspec": {
   "display_name": "text_sum",
   "language": "python",
   "name": "python3"
  },
  "language_info": {
   "codemirror_mode": {
    "name": "ipython",
    "version": 3
   },
   "file_extension": ".py",
   "mimetype": "text/x-python",
   "name": "python",
   "nbconvert_exporter": "python",
   "pygments_lexer": "ipython3",
   "version": "3.12.7"
  }
 },
 "nbformat": 4,
 "nbformat_minor": 2
}
