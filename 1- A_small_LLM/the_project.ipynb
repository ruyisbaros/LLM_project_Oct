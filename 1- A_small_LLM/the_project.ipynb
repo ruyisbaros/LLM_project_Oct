{
 "cells": [
  {
   "cell_type": "code",
   "execution_count": 352,
   "metadata": {},
   "outputs": [],
   "source": [
    "import os, sys\n",
    "import ipdb  # for debugging\n",
    "from tqdm import tqdm\n",
    "from datetime import datetime\n",
    "import platform, shutil  # detect platform type\n",
    "import requests, zipfile, io\n",
    "import math\n",
    "\n",
    "# Pytorch\n",
    "import torch\n",
    "import torch.nn as nn\n",
    "from torch.nn import functional as F\n",
    "from torch.nn import DataParallel\n",
    "\n",
    "import sentencepiece as spm  # For the tokenizer\n",
    "\n",
    "# These lines improve performance for Ampere Architecture (e.g: A100s)\n",
    "torch.backends.cuda.matmul.allow_tf32 = True  # allow tf32 on matmul\n",
    "torch.backends.cudnn.allow_tf32 = True  # allow tf32 on cudnn\n",
    "# Empty GPU cache memory\n",
    "torch.cuda.empty_cache()"
   ]
  },
  {
   "cell_type": "markdown",
   "metadata": {},
   "source": [
    "# A-) PREWORKING"
   ]
  },
  {
   "cell_type": "markdown",
   "metadata": {},
   "source": [
    "### 1-) Requirements installed"
   ]
  },
  {
   "cell_type": "code",
   "execution_count": 353,
   "metadata": {},
   "outputs": [],
   "source": [
    "#!pip install wandb\n",
    "# 22af9a162cd0b2ad0d4643a01a00657222e874bd\n",
    "#!pip install jupyter notebook"
   ]
  },
  {
   "cell_type": "code",
   "execution_count": 354,
   "metadata": {},
   "outputs": [],
   "source": [
    "#!nvidia-smi"
   ]
  },
  {
   "cell_type": "code",
   "execution_count": 355,
   "metadata": {},
   "outputs": [
    {
     "name": "stdout",
     "output_type": "stream",
     "text": [
      "Using device: cuda\n"
     ]
    }
   ],
   "source": [
    "# Check if GPU is available\n",
    "device = torch.device(\"cuda\" if torch.cuda.is_available() else \"cpu\")\n",
    "\n",
    "# Print the device being used\n",
    "print(f\"Using device: {device}\")\n"
   ]
  },
  {
   "cell_type": "markdown",
   "metadata": {},
   "source": [
    "### 2-) Parameters"
   ]
  },
  {
   "cell_type": "markdown",
   "metadata": {},
   "source": [
    "- Architecture Parameters"
   ]
  },
  {
   "cell_type": "code",
   "execution_count": 356,
   "metadata": {},
   "outputs": [],
   "source": [
    "# Transformers encoder inputs will be (8, 512, 384) # 8 batches, 512 features/token each iteration, 384 token vector\n",
    "batch_size = 8 # number of samples in each iteration\n",
    "context_size = 512  # how many words/tokens will be taken each iteration\n",
    "embedded_size = 384  # vector size for the each token\n",
    "n_layers = 7 # number of layers in the encoder layer\n",
    "n_heads = 7 # number of heads in the multi-head attention mechanism\n",
    "BIAS = True # if True, add bias to the output of the linear layer"
   ]
  },
  {
   "cell_type": "markdown",
   "metadata": {},
   "source": [
    "- HyperParameters "
   ]
  },
  {
   "cell_type": "code",
   "execution_count": 357,
   "metadata": {},
   "outputs": [],
   "source": [
    "lr = 3e-4\n",
    "dropout = 0.05 # randomly zero out some input units with probability dropout. This avoids overfitting.\n",
    "weight_decay = 0.01 # regularization parameter for weight decay. Smaller values will result in stronger regularization. like L1 or L2 regularization.\n",
    "grad_clip = 1.0 # avoid exploding gradients."
   ]
  },
  {
   "cell_type": "markdown",
   "metadata": {},
   "source": [
    "- Training Parameters"
   ]
  },
  {
   "cell_type": "code",
   "execution_count": 358,
   "metadata": {},
   "outputs": [],
   "source": [
    "train_iters = 10000\n",
    "eval_interval = 50 # each 50 iterations, the model will be evaluated on the validation set\n",
    "eval_iters = 3\n",
    "compile = False # if True, the model will be compiled before training\n",
    "checkpoint_dir = \"models/\"  # Where do we store checkpoints?\n",
    "checkpoint_fn = \"latest.pt\"\n",
    "# Name of checkpoint file to be saved during training\n",
    "checkpoint_load_fn = \"latest.pt\"\n",
    "load_pretrained = False  # Do we want to load a pretrained model to continue training?\n",
    "dtype = torch.bfloat16 # data type for the model"
   ]
  },
  {
   "cell_type": "markdown",
   "metadata": {},
   "source": [
    "- Mode"
   ]
  },
  {
   "cell_type": "code",
   "execution_count": 359,
   "metadata": {},
   "outputs": [
    {
     "name": "stdout",
     "output_type": "stream",
     "text": [
      "Using device: cuda\n"
     ]
    }
   ],
   "source": [
    "inference = False # if True, the model will be used for inference\n",
    "device = \"cuda\" if torch.cuda.is_available() else \"cpu\"\n",
    "print(f\"Using device: {device}\")"
   ]
  },
  {
   "cell_type": "markdown",
   "metadata": {},
   "source": [
    "### 3-) wandb Logging"
   ]
  },
  {
   "cell_type": "code",
   "execution_count": 360,
   "metadata": {},
   "outputs": [],
   "source": [
    "#import wandb\n",
    "#wandb.login()"
   ]
  },
  {
   "cell_type": "code",
   "execution_count": 361,
   "metadata": {},
   "outputs": [
    {
     "data": {
      "text/html": [
       "Tracking run with wandb version 0.18.3"
      ],
      "text/plain": [
       "<IPython.core.display.HTML object>"
      ]
     },
     "metadata": {},
     "output_type": "display_data"
    },
    {
     "data": {
      "text/html": [
       "Run data is saved locally in <code>c:\\Users\\User\\Desktop\\ML_Bootcamp\\LLM_spain\\1- A_small_LLM\\wandb\\run-20241012_231634-529ze5uq</code>"
      ],
      "text/plain": [
       "<IPython.core.display.HTML object>"
      ]
     },
     "metadata": {},
     "output_type": "display_data"
    },
    {
     "data": {
      "text/html": [
       "Syncing run <strong><a href='https://wandb.ai/ahmet-erdonmez77-dci/llm1/runs/529ze5uq' target=\"_blank\">llm120241012-231634</a></strong> to <a href='https://wandb.ai/ahmet-erdonmez77-dci/llm1' target=\"_blank\">Weights & Biases</a> (<a href='https://wandb.me/run' target=\"_blank\">docs</a>)<br/>"
      ],
      "text/plain": [
       "<IPython.core.display.HTML object>"
      ]
     },
     "metadata": {},
     "output_type": "display_data"
    },
    {
     "data": {
      "text/html": [
       " View project at <a href='https://wandb.ai/ahmet-erdonmez77-dci/llm1' target=\"_blank\">https://wandb.ai/ahmet-erdonmez77-dci/llm1</a>"
      ],
      "text/plain": [
       "<IPython.core.display.HTML object>"
      ]
     },
     "metadata": {},
     "output_type": "display_data"
    },
    {
     "data": {
      "text/html": [
       " View run at <a href='https://wandb.ai/ahmet-erdonmez77-dci/llm1/runs/529ze5uq' target=\"_blank\">https://wandb.ai/ahmet-erdonmez77-dci/llm1/runs/529ze5uq</a>"
      ],
      "text/plain": [
       "<IPython.core.display.HTML object>"
      ]
     },
     "metadata": {},
     "output_type": "display_data"
    }
   ],
   "source": [
    "wandb_log = True \n",
    "wandb_project = \"llm1\"\n",
    "wandb_run_name = \"llm1\" +datetime.now().strftime(\"%Y%m%d-%H%M%S\")\n",
    "\n",
    "if wandb_log:\n",
    "    import wandb\n",
    "    wandb.init(project=wandb_project, name=wandb_run_name)\n",
    "    \"\"\" wandb.config.update({\n",
    "        \"lr\": lr,\n",
    "        \"dropout\": dropout,\n",
    "        \"weight_decay\": weight_decay,\n",
    "        \"grad_clip\": grad_clip,\n",
    "        \"train_iterations\": train_iterations,\n",
    "        \"eval_interval\": eval_interval,\n",
    "        \"eval_iters\": eval_iters,\n",
    "        \"compile\": compile,\n",
    "        \"checkpoint_path\": checkpoint_path,\n",
    "        \"checkpoint_fn\": checkpoint_fn,\n",
    "        \"checkpoint_load_fn\": checkpoint_load_fn,\n",
    "        \"dtype\": dtype,\n",
    "        \"inference\": inference,\n",
    "        \"device\": device\n",
    "    }) \"\"\"\n"
   ]
  },
  {
   "cell_type": "markdown",
   "metadata": {},
   "source": [
    "### 4-) Load Dataset"
   ]
  },
  {
   "cell_type": "code",
   "execution_count": 362,
   "metadata": {},
   "outputs": [
    {
     "data": {
      "text/plain": [
       "' files_url = \"https://ideami.com/llm_train\"\\n\\n# Downloading proceeds if we detect that one of the key files to download is not present\\nif not os.path.exists(f\"encoded_data.pt\"):\\n    print(\"Downloading files using Python\")\\n    response = requests.get(files_url)\\n    zipfile.ZipFile(io.BytesIO(response.content)).extractall(\".\")\\nelse:\\n    print(\\n        \"you seem to have already downloaded the files. If you wish to re-download them, delete the encoded_data.pt file\"\\n    )\\n '"
      ]
     },
     "execution_count": 362,
     "metadata": {},
     "output_type": "execute_result"
    }
   ],
   "source": [
    "\"\"\" files_url = \"https://ideami.com/llm_train\"\n",
    "\n",
    "# Downloading proceeds if we detect that one of the key files to download is not present\n",
    "if not os.path.exists(f\"encoded_data.pt\"):\n",
    "    print(\"Downloading files using Python\")\n",
    "    response = requests.get(files_url)\n",
    "    zipfile.ZipFile(io.BytesIO(response.content)).extractall(\".\")\n",
    "else:\n",
    "    print(\n",
    "        \"you seem to have already downloaded the files. If you wish to re-download them, delete the encoded_data.pt file\"\n",
    "    )\n",
    " \"\"\""
   ]
  },
  {
   "cell_type": "code",
   "execution_count": 363,
   "metadata": {},
   "outputs": [
    {
     "name": "stdout",
     "output_type": "stream",
     "text": [
      "Dataset size: 178255102 characters\n",
      "terms.\n",
      "For example, there are objects in two groups (as shown on the right). The objects are various shapes, where one group has 3 of them while the other has 2. When the two groups combine into one, the overall amount (sum) of the shapes become 5.\n",
      "\n",
      "Vertical Addition\n",
      "\n",
      "The animation above demonstrate\n"
     ]
    }
   ],
   "source": [
    "with open('data/wiki.txt', 'r', encoding=\"utf-8\") as f:\n",
    "    text = f.read()\n",
    "print(f\"Dataset size: {len(text)} characters\")\n",
    "print(text[30000:30300])"
   ]
  },
  {
   "cell_type": "markdown",
   "metadata": {},
   "source": [
    "### 5-) Tokenize the dataset"
   ]
  },
  {
   "cell_type": "code",
   "execution_count": 390,
   "metadata": {},
   "outputs": [
    {
     "name": "stdout",
     "output_type": "stream",
     "text": [
      "4096\n"
     ]
    }
   ],
   "source": [
    "sp = spm.SentencePieceProcessor(model_file=\"data/wiki_tokenizer.model\")  # spm.SentencePieceProcessor is more advanced than NLTK's word_tokenize\n",
    "vocab_size = sp.GetPieceSize()\n",
    "print(vocab_size)"
   ]
  },
  {
   "cell_type": "code",
   "execution_count": 365,
   "metadata": {},
   "outputs": [],
   "source": [
    "def encode(s):\n",
    "    return sp.Encode(s)\n",
    "def decode(s):\n",
    "    return sp.Decode(s)"
   ]
  },
  {
   "cell_type": "code",
   "execution_count": 366,
   "metadata": {},
   "outputs": [
    {
     "name": "stdout",
     "output_type": "stream",
     "text": [
      "[310, 4031, 116, 2895, 1090, 570, 285, 1172, 599, 1853, 4039, 751, 264, 314, 817, 4049, 3429, 4051]\n",
      "The quick brown fox jumps over the lazy dog.\n"
     ]
    }
   ],
   "source": [
    "print(encode(\"The quick brown fox jumps over the lazy dog.\"))\n",
    "print(decode(encode(\"The quick brown fox jumps over the lazy dog.\")))"
   ]
  },
  {
   "cell_type": "markdown",
   "metadata": {},
   "source": [
    "- Tutor created \"encoded_data.pt\" for time saving"
   ]
  },
  {
   "cell_type": "code",
   "execution_count": 367,
   "metadata": {},
   "outputs": [],
   "source": [
    "if os.path.exists('data/encoded_data.pt'):\n",
    "    data = torch.load('data/encoded_data.pt')\n",
    "else: # shows how to create encoded_data.pt\n",
    "    encoded_data = torch.tensor(encode(text), dtype=torch.long)\n",
    "    torch.save(encoded_data, 'data/encoded_data.pt')"
   ]
  },
  {
   "cell_type": "code",
   "execution_count": 368,
   "metadata": {},
   "outputs": [
    {
     "data": {
      "text/plain": [
       "(tensor([4031,   13, 4061,  ...,   13,   13,   13]), 59211077)"
      ]
     },
     "execution_count": 368,
     "metadata": {},
     "output_type": "execute_result"
    }
   ],
   "source": [
    "data, len(data)"
   ]
  },
  {
   "cell_type": "markdown",
   "metadata": {},
   "source": [
    "### 6-) Define the model"
   ]
  },
  {
   "cell_type": "code",
   "execution_count": 369,
   "metadata": {},
   "outputs": [
    {
     "name": "stdout",
     "output_type": "stream",
     "text": [
      "Total data size: 59.21 Millions | Train data size: 53.29 Millions | Validation data size: 5.92\n"
     ]
    }
   ],
   "source": [
    "data_size = len(data)\n",
    "spl = int(0.9 * data_size)\n",
    "train_data = data[:spl] # 90% of the data for training\n",
    "val_data = data[spl:] # 10% of the data for validation\n",
    "\n",
    "print(f\"Total data size: {data_size/1e6:.2f} Millions | Train data size: {len(train_data)/1e6:.2f} Millions | Validation data size: {len(val_data)/1e6:.2f}\")"
   ]
  },
  {
   "cell_type": "code",
   "execution_count": 370,
   "metadata": {},
   "outputs": [],
   "source": [
    "# we will get 8 times of 512 tokens in each batch (8,512)\n",
    "def get_batch(split):\n",
    "    data = train_data if split == \"train\" else val_data\n",
    "    inds = torch.randint(len(data) - context_size, (batch_size,)) # batch_size 8 and context_size 512. Each batch will have 8 examples. and each example will have 512 tokens.\n",
    "    X = torch.stack([data[i:i+context_size] for i in inds])  # If we did not do (len(data) - context_size) instead of len(data), we would get out of range error\n",
    "    y = torch.stack([data[i+1: i+context_size+1] for i in inds])# if above is 1000:1512 => this 1001:1513. we move window one token forward\n",
    "    \n",
    "    return X.to(device), y.to(device)"
   ]
  },
  {
   "cell_type": "code",
   "execution_count": 371,
   "metadata": {},
   "outputs": [
    {
     "data": {
      "text/plain": [
       "(torch.Size([8, 512]), torch.Size([8, 512]))"
      ]
     },
     "execution_count": 371,
     "metadata": {},
     "output_type": "execute_result"
    }
   ],
   "source": [
    "x,y = get_batch(\"train\")\n",
    "x.shape, y.shape"
   ]
  },
  {
   "cell_type": "markdown",
   "metadata": {},
   "source": [
    "- THE MAGIC IS WE FORWARD WINDOW 1 TOKEN AHEAD EACH TIME."
   ]
  },
  {
   "cell_type": "code",
   "execution_count": 372,
   "metadata": {},
   "outputs": [
    {
     "name": "stdout",
     "output_type": "stream",
     "text": [
      "tensor([ 682, 1429,  983,  302,  501, 1161, 1064,  293,  615,  261],\n",
      "       device='cuda:0')\n",
      "tensor([1429,  983,  302,  501, 1161, 1064,  293,  615,  261, 2108],\n",
      "       device='cuda:0')\n"
     ]
    }
   ],
   "source": [
    "print(x[0][:10])\n",
    "print(y[0][:10])"
   ]
  },
  {
   "cell_type": "markdown",
   "metadata": {},
   "source": [
    "# B-) TRANSFORMER MODEL"
   ]
  },
  {
   "cell_type": "markdown",
   "metadata": {},
   "source": [
    "### 1-) Define the transformer block"
   ]
  },
  {
   "cell_type": "code",
   "execution_count": 373,
   "metadata": {},
   "outputs": [],
   "source": [
    "# embedded size is 384, context_size is 512, vocab_size is 4096, n_heads is 7, BIAS is True, n_layers is 7\n",
    "class GPT(nn.Module):\n",
    "    def __init__(self):\n",
    "        super().__init__()\n",
    "        self.embeddings = nn.Embedding(vocab_size, embedded_size) # 4096 x 384 each vocab will have 384 size vector\n",
    "        self.positions = nn.Embedding(context_size, embedded_size) # 512 x 384 we define positions of each token\n",
    "        self.blocks = nn.Sequential(*[Block(n_heads) for _ in range(n_layers)])# creates n_layers (7) times transformer blocks and each block has n_heads (7) heads\n",
    "        self.ln = nn.LayerNorm(embedded_size) # Z-transform\n",
    "        self.final_linear = nn.Linear(embedded_size,vocab_size, bias=BIAS)\n",
    "        \n",
    "        self.apply(self._init_weights)\n",
    "        \n",
    "    def _init_weights(self, module):\n",
    "        if isinstance(module,nn.Linear):\n",
    "            #module.weight.data.normal_(mean=0.0, std=0.02)\n",
    "            torch.nn.init.normal_(module.weight, std=0.02, mean=0.0)\n",
    "            if module.bias is not None:\n",
    "                torch.nn.init.zeros_(module.bias)\n",
    "        elif isinstance(module, nn.Embedding):\n",
    "            torch.nn.init.normal_(module.weight, std=0.02, mean=0.0)\n",
    "            \n",
    "    def forward(self, input, targets = None): \n",
    "        # BS = Batch Size, SL=sequence Length or context Size\n",
    "        loss = None\n",
    "        BS, SL = input.shape # for us 8 x 512\n",
    "        emb = self.embeddings(input) # for us 8 x 512 x 384\n",
    "        position_ = self.positions(torch.arange(SL, device=device)) # for us 512 x 384\n",
    "        \n",
    "        x = emb + position_  # for us 8 x 512 x 384\n",
    "        \n",
    "        x = self.blocks(x) # pass through transformer blocks. BS x SL x 384\n",
    "        x = self.ln(x)  # normalization. BS x SL x 384 (embedding size)\n",
    "\n",
    "        logits = self.final_linear(x)  # to device (cuda or cpu)  # pass through linear layer BS x SL x 4096 (vocab size)\n",
    "        #probs = torch.softmax(logits, dim=-1)  # get probabilities for each token. BS x SL x 4096\n",
    "        \n",
    "        \n",
    "        \n",
    "        if targets is not None:\n",
    "            BS, SL, VS = logits.shape\n",
    "            logits = logits.view(BS*SL, VS)  # BS*SL x 4096\n",
    "            targets = targets.view(BS*SL)  # BS*SL x 1\n",
    "            loss = F.cross_entropy(logits, targets)  # calculate loss for each token. BS*SL x 1\n",
    "            \n",
    "            # manually calculate loss\n",
    "            #counts = logits.exp()\n",
    "            #prob = counts / counts.sum(dim=-1, keepdim=True)\n",
    "            #loss2 = - prob[torch.arange(BS*SL), targets].log().mean()\n",
    "            \n",
    "            #if(not torch.allclose(loss, loss2)):\n",
    "            #print(f\"[Loss Difference] Pytorch: {loss.item()} vs Manual: {loss2.item()}\")\n",
    "        \n",
    "        return logits, loss\n",
    "    \n",
    "    # Predicts next token based on previous tokens\n",
    "    def generate(self, input, max_length=500):\n",
    "        for _ in range(max_length):\n",
    "            input = input[:, -context_size:] # take last context_size, 512 of tokens \n",
    "            logits, _ = self(input) # (1, input_size, vocab_size)\n",
    "            logits = logits[:, -1, :]  # pick the last token's logits (1, vocab_size)\n",
    "            probs = F.softmax(logits, dim=-1) # get probabilities for each token (1, vocab_size)\n",
    "            next_token = torch.multinomial(probs, num_samples=1)#.squeeze(1)  # sample the next token (1, 1)\n",
    "            input = torch.cat((input, next_token), dim=1)  # add the sampled token to the input\n",
    "            \n",
    "        return input\n",
    "        \n",
    "\n",
    "\n",
    "class Block(nn.Module):\n",
    "    def __init__(self, n_heads):\n",
    "        super().__init__()\n",
    "        head_size = embedded_size // n_heads # 384 // 7 ~ 54\n",
    "        self.ma = MultiHeadAttention(n_heads, head_size) # 7 heads * 54\n",
    "        self.feed_forward = ForwardLayer(embedded_size)\n",
    "        self.ln1 = nn.LayerNorm(embedded_size) # Z-transform\n",
    "        self.ln2 = nn.LayerNorm(embedded_size) # Z-transform\n",
    "        \n",
    "    def forward(self, x):\n",
    "        x = x + self.ma(self.ln1(x))\n",
    "        x = x + self.feed_forward(self.ln2(x))\n",
    "        return x  \n",
    "\n",
    "\n",
    "class MultiHeadAttention(nn.Module):\n",
    "    def __init__(self, n_heads, head_size):\n",
    "        super().__init__()\n",
    "        self.heads = nn.ModuleList([Head(head_size) for _ in range(n_heads)]) # iterate for each head\n",
    "        self.combine = nn.Linear(n_heads*head_size, embedded_size, bias=BIAS) # (7*54 ,384)\n",
    "        self.dropout = nn.Dropout(dropout)\n",
    "        \n",
    "    def forward(self, x):\n",
    "        x = torch.cat([head(x) for head in self.heads], dim=-1) # dim=-1 do this on last dimension. dim = 0 do this on first dimension.\n",
    "        # each head outputs (BS, SL, head_size)\n",
    "        x = self.combine(x)\n",
    "        x = self.dropout(x)\n",
    "        return x \n",
    "        \n",
    "        \n",
    "\n",
    "class ForwardLayer(nn.Module):\n",
    "    def __init__(self, embedded_size):\n",
    "        super().__init__()\n",
    "        self.network = nn.Sequential(\n",
    "            nn.Linear(embedded_size, 6*embedded_size, bias=BIAS),\n",
    "            nn.GELU(),\n",
    "            nn.Linear(6*embedded_size, embedded_size, bias=BIAS),\n",
    "            nn.Dropout(dropout)\n",
    "        )\n",
    "        \n",
    "    def forward(self, x):\n",
    "        return self.network(x)\n",
    "    \n",
    "    \n",
    "class Head(nn.Module):\n",
    "    def __init__(self, head_size):\n",
    "        super().__init__()\n",
    "        self.q = nn.Linear(embedded_size, head_size, bias=BIAS)\n",
    "        self.k = nn.Linear(embedded_size, head_size, bias=BIAS)\n",
    "        self.v = nn.Linear(embedded_size, head_size, bias=BIAS)\n",
    "        \n",
    "        self.register_buffer('tril', torch.tril(torch.ones(context_size, context_size))) # an upper triangular matrix of size (context_size, context_size)\n",
    "        self.dropout = nn.Dropout(dropout)\n",
    "        \n",
    "    def forward(self, x):\n",
    "        BS, SL, VS = x.shape\n",
    "        q = self.q(x) # BS, SL, 54 => # (8, 512, 54),\n",
    "        k = self.k(x) # BS, SL, 54 => # (8, 512, 54),\n",
    "        v = self.v(x) # BS, SL, 54 => # (8, 512, 54),\n",
    "        \n",
    "        attn_weights = q @ k.transpose(-2,-1) * k.shape[-1]**-0.5  # k.transpose(-2,-1) = (8, 54, 512) so ==> (8,512,54) @ (8,54,512) = (8,512,512)\n",
    "        attn_weights = attn_weights.masked_fill(self.tril[:SL, :SL] == 0, float('-inf'))\n",
    "        attn_weights = F.softmax(attn_weights, dim=-1)  # (8,512,512)\n",
    "        attn_weights = self.dropout(attn_weights)\n",
    "\n",
    "        x = attn_weights @ v  # (8,512,512) @ (8,512,54) = (8,512,54)\n",
    "\n",
    "        return x"
   ]
  },
  {
   "cell_type": "markdown",
   "metadata": {},
   "source": [
    "##### TO SEE MANUALLY GENERATED"
   ]
  },
  {
   "cell_type": "code",
   "execution_count": 374,
   "metadata": {},
   "outputs": [
    {
     "data": {
      "text/plain": [
       "' head_size = embedded_size // n_heads # 384 // 7 ~ 54\\nx,y = get_batch(\"train\")\\nprint(\"x and y shape: \",x.shape, y.shape) # inputs\\n\\nx = x.to(device)\\ny = y.to(device)\\nembeddings = nn.Embedding(vocab_size, embedded_size).to(device)\\npositions = nn.Embedding(context_size, embedded_size).to(device)\\nqueries = nn.Linear(embedded_size, head_size, bias=BIAS).to(device)\\nkeys = nn.Linear(embedded_size, head_size, bias=BIAS).to(device)\\nvalues = nn.Linear(embedded_size, head_size, bias=BIAS).to(device)\\ntril = torch.tril(torch.ones(context_size, context_size)).to(device) # an upper triangular matrix of size (context_size, context_size)\\n\\nemb = embeddings(x)\\npos = positions(torch.arange(context_size, device=device))\\n\\nx = emb + pos\\n\\n# Multi-Head Attention\\n\\nq = queries(x)\\nk = keys(x)\\nv = values(x)\\nprint(\"q, k and v shape: \",q.shape, k.shape, v.shape)  # (8, 512, 54),\\ntorch.set_printoptions(precision=2, sci_mode=False)\\nprint(q[0][0][:5])\\n\\nattn_weights = q @ k.transpose(-2,-1) * k.shape[-1]**0.5  # k.transpose(-2,-1) = (8, 54, 512) so ==> (8,512,54) @ (8,54,512) = (8,512,512)\\nattn_weights = attn_weights.masked_fill(tril[:context_size, :context_size] == 0, -float(\\'inf\\'))\\nattn_weights = F.softmax(attn_weights, dim=-1)  # (8,512,512)\\n\\nx = attn_weights @ v # (8,512,512) @ (8,512,54) = (8,512,54)\\nprint(x[0][0])\\nprint(attn_weights.shape)\\nprint(x.shape) '"
      ]
     },
     "execution_count": 374,
     "metadata": {},
     "output_type": "execute_result"
    }
   ],
   "source": [
    "\"\"\" head_size = embedded_size // n_heads # 384 // 7 ~ 54\n",
    "x,y = get_batch(\"train\")\n",
    "print(\"x and y shape: \",x.shape, y.shape) # inputs\n",
    "\n",
    "x = x.to(device)\n",
    "y = y.to(device)\n",
    "embeddings = nn.Embedding(vocab_size, embedded_size).to(device)\n",
    "positions = nn.Embedding(context_size, embedded_size).to(device)\n",
    "queries = nn.Linear(embedded_size, head_size, bias=BIAS).to(device)\n",
    "keys = nn.Linear(embedded_size, head_size, bias=BIAS).to(device)\n",
    "values = nn.Linear(embedded_size, head_size, bias=BIAS).to(device)\n",
    "tril = torch.tril(torch.ones(context_size, context_size)).to(device) # an upper triangular matrix of size (context_size, context_size)\n",
    "\n",
    "emb = embeddings(x)\n",
    "pos = positions(torch.arange(context_size, device=device))\n",
    "\n",
    "x = emb + pos\n",
    "\n",
    "# Multi-Head Attention\n",
    "\n",
    "q = queries(x)\n",
    "k = keys(x)\n",
    "v = values(x)\n",
    "print(\"q, k and v shape: \",q.shape, k.shape, v.shape)  # (8, 512, 54),\n",
    "torch.set_printoptions(precision=2, sci_mode=False)\n",
    "print(q[0][0][:5])\n",
    "\n",
    "attn_weights = q @ k.transpose(-2,-1) * k.shape[-1]**0.5  # k.transpose(-2,-1) = (8, 54, 512) so ==> (8,512,54) @ (8,54,512) = (8,512,512)\n",
    "attn_weights = attn_weights.masked_fill(tril[:context_size, :context_size] == 0, -float('inf'))\n",
    "attn_weights = F.softmax(attn_weights, dim=-1)  # (8,512,512)\n",
    "\n",
    "x = attn_weights @ v # (8,512,512) @ (8,512,54) = (8,512,54)\n",
    "print(x[0][0])\n",
    "print(attn_weights.shape)\n",
    "print(x.shape) \"\"\""
   ]
  },
  {
   "cell_type": "code",
   "execution_count": 375,
   "metadata": {},
   "outputs": [],
   "source": [
    "#tril"
   ]
  },
  {
   "cell_type": "code",
   "execution_count": 376,
   "metadata": {},
   "outputs": [
    {
     "data": {
      "text/plain": [
       "tensor([[1, 2, 3],\n",
       "        [5, 6, 7]])"
      ]
     },
     "execution_count": 376,
     "metadata": {},
     "output_type": "execute_result"
    }
   ],
   "source": [
    "arr = torch.tensor([1, 2, 3, 4, 5, 6, 7, 8]).reshape(2, 4)\n",
    "arr[:, :3]"
   ]
  },
  {
   "cell_type": "code",
   "execution_count": 377,
   "metadata": {},
   "outputs": [
    {
     "data": {
      "text/plain": [
       "54"
      ]
     },
     "execution_count": 377,
     "metadata": {},
     "output_type": "execute_result"
    }
   ],
   "source": [
    "384//7"
   ]
  },
  {
   "cell_type": "markdown",
   "metadata": {},
   "source": [
    "##### go on"
   ]
  },
  {
   "cell_type": "markdown",
   "metadata": {},
   "source": [
    "### 2-) Generate a sample "
   ]
  },
  {
   "cell_type": "code",
   "execution_count": 378,
   "metadata": {},
   "outputs": [
    {
     "name": "stdout",
     "output_type": "stream",
     "text": [
      "x and y shape:  torch.Size([8, 512]) torch.Size([8, 512])\n",
      "8.375\n"
     ]
    }
   ],
   "source": [
    "x, y = get_batch(\"train\")\n",
    "print(\"x and y shape: \", x.shape, y.shape)  # inputs\n",
    "\n",
    "model = GPT()\n",
    "model = model.to(device)\n",
    "model = model.to(dtype)\n",
    "\n",
    "logits, loss = model(x, y)\n",
    "\n",
    "print(loss.item())"
   ]
  },
  {
   "cell_type": "code",
   "execution_count": 379,
   "metadata": {},
   "outputs": [],
   "source": [
    "@torch.no_grad()\n",
    "def generate_sample(input):\n",
    "    t1 = torch.tensor(encode(input), dtype=torch.long, device=device) # (1, size of ids)\n",
    "    t1 = t1[None, :] # (1, size of ids)\n",
    "    newgen = model.generate(t1, max_length=64)[0].tolist()\n",
    "    \n",
    "    result = decode(newgen)\n",
    "    \n",
    "    print(result)\n",
    "    \n",
    "#generate_sample(\"The quick brown fox jumps over the lazy dog.\")"
   ]
  },
  {
   "cell_type": "code",
   "execution_count": 380,
   "metadata": {},
   "outputs": [
    {
     "data": {
      "text/plain": [
       "(tensor([ 2,  3,  4,  5,  6,  7,  8,  9, 10, 11]),\n",
       " torch.Size([10]),\n",
       " torch.Size([1, 10]))"
      ]
     },
     "execution_count": 380,
     "metadata": {},
     "output_type": "execute_result"
    }
   ],
   "source": [
    "a = torch.tensor([2,3,4,5,6,7,8,9,10,11])\n",
    "a, a.shape, a.unsqueeze(0).shape,"
   ]
  },
  {
   "cell_type": "markdown",
   "metadata": {},
   "source": [
    "### 3-) TRAINING"
   ]
  },
  {
   "cell_type": "code",
   "execution_count": 381,
   "metadata": {},
   "outputs": [
    {
     "name": "stdout",
     "output_type": "stream",
     "text": [
      "x and y shape:  torch.Size([8, 512]) torch.Size([8, 512])\n",
      "(19.837954, 'Million parameters')\n"
     ]
    }
   ],
   "source": [
    "x, y = get_batch(\"train\")\n",
    "print(\"x and y shape: \", x.shape, y.shape)  # inputs\n",
    "\n",
    "model = GPT()\n",
    "model = model.to(device)\n",
    "model = model.to(dtype)\n",
    "\n",
    "if compile:\n",
    "    print(\"Torch compiled successfully\")\n",
    "    model = torch.compile(model)\n",
    "\n",
    "print((sum(p.numel() for p in model.parameters()) / 1e6 , \"Million parameters\"))"
   ]
  },
  {
   "cell_type": "markdown",
   "metadata": {},
   "source": [
    "##### Calculate Loss Average"
   ]
  },
  {
   "cell_type": "code",
   "execution_count": 382,
   "metadata": {},
   "outputs": [],
   "source": [
    "@torch.no_grad()\n",
    "def calculate_loss():\n",
    "    out = {}\n",
    "    model.eval()\n",
    "    for split in [\"train\", \"eval\"]:\n",
    "        l = torch.zeros(eval_iters)\n",
    "        \n",
    "        for i in range(eval_iters):\n",
    "            x,y = get_batch(split)\n",
    "            _, loss = model(x, y)\n",
    "            l[i] = loss\n",
    "            \n",
    "        out[split] = l.mean().item()\n",
    "        \n",
    "    model.train()\n",
    "    return out"
   ]
  },
  {
   "cell_type": "code",
   "execution_count": 383,
   "metadata": {},
   "outputs": [
    {
     "data": {
      "text/plain": [
       "{'train': 8.4375, 'eval': 8.4375}"
      ]
     },
     "execution_count": 383,
     "metadata": {},
     "output_type": "execute_result"
    }
   ],
   "source": [
    "out = calculate_loss()\n",
    "out"
   ]
  },
  {
   "cell_type": "markdown",
   "metadata": {},
   "source": [
    "##### HyperParameters setting"
   ]
  },
  {
   "cell_type": "code",
   "execution_count": 391,
   "metadata": {},
   "outputs": [],
   "source": [
    "#################################################################################\n",
    "# Main Training Process\n",
    "#################################################################################\n",
    "\n",
    "# Set Weight Decay differently for different kinds of parameters\n",
    "# parameter dictionary where keys are parameter names, and values are the parameter themselves\n",
    "p_dict = {\n",
    "    p_name: p for p_name, p in model.named_parameters() if p.requires_grad\n",
    "}  # len: 370\n",
    "\n",
    "# isolate weight matrices as they benefit specially from weight decay\n",
    "weight_decay_p = [p for n, p in p_dict.items() if p.dim() >= 2]  # len: 171\n",
    "\n",
    "# isolate other parameters like bias parameters, that don't benefit from weight decay\n",
    "no_weight_decay_p = [p for n, p in p_dict.items() if p.dim() < 2]  # len: 199\n",
    "\n",
    "# store the parameter types in a list of dictionaries\n",
    "optimizer_groups = [\n",
    "    {\"params\": weight_decay_p, \"weight_decay\": weight_decay},\n",
    "    {\"params\": no_weight_decay_p, \"weight_decay\": 0.0},\n",
    "]\n",
    "\n",
    "# Declare optimizer, it helps us compute gradients, update parameters, manage learning rate, apply weight decay\n",
    "optimizer = torch.optim.AdamW(optimizer_groups, lr=lr, betas=(0.9, 0.99))\n",
    "# betas: control the exponential moving averages of the gradient and its square,\n",
    "# which are essential components of the Adam and AdamW optimization algorithms.\n",
    "\n",
    "# Declare scheduler to change learning rate through the training\n",
    "scheduler = torch.optim.lr_scheduler.CosineAnnealingLR(\n",
    "    optimizer, train_iters, eta_min=lr / 10\n",
    ")\n",
    "# learning rate will descend till a minimum of a tenth of the lr\n",
    "\n",
    "start_iteration = 0\n",
    "best_val_loss = float(\"inf\")  # Track best loss value\n"
   ]
  },
  {
   "cell_type": "markdown",
   "metadata": {},
   "source": [
    "##### Loading Checkpoints"
   ]
  },
  {
   "cell_type": "code",
   "execution_count": 385,
   "metadata": {},
   "outputs": [
    {
     "name": "stdout",
     "output_type": "stream",
     "text": [
      "0\n"
     ]
    }
   ],
   "source": [
    "print(device.index(\"cuda\"))"
   ]
  },
  {
   "cell_type": "code",
   "execution_count": 386,
   "metadata": {},
   "outputs": [],
   "source": [
    "def load_checkpoint(path):\n",
    "    print(\"LLM - Loading model\")\n",
    "    checkpoint = torch.load(path)\n",
    "    model.load_state_dict(checkpoint[\"model_state_dict\"])  # Load parameters\n",
    "    optimizer.load_state_dict(\n",
    "        checkpoint[\"optimizer_state_dict\"]\n",
    "    )  # Load optimizer state\n",
    "    iteration = checkpoint[\"iteration\"]  # In what iteration did we save the model?\n",
    "    loss = checkpoint[\"loss\"]  # What was the last loss value?\n",
    "    print(f\"Loaded iter {iteration} with loss {loss}\")\n",
    "    return iteration, loss\n",
    "\n",
    "\n",
    "################# OPTIONAL : LOAD A PREVIOUS CHECKPOINT\n",
    "if os.path.exists(f\"{checkpoint_dir}/{checkpoint_load_fn}\") and load_pretrained:\n",
    "    start_iteration, loss = load_checkpoint(checkpoint_dir + checkpoint_load_fn)\n",
    "    best_val_loss = loss \n"
   ]
  },
  {
   "cell_type": "code",
   "execution_count": 387,
   "metadata": {},
   "outputs": [
    {
     "data": {
      "text/plain": [
       "True"
      ]
     },
     "execution_count": 387,
     "metadata": {},
     "output_type": "execute_result"
    }
   ],
   "source": [
    "1==1"
   ]
  },
  {
   "cell_type": "markdown",
   "metadata": {},
   "source": [
    "##### Inference Loop"
   ]
  },
  {
   "cell_type": "code",
   "execution_count": 388,
   "metadata": {},
   "outputs": [],
   "source": [
    "if inference:\n",
    "    model.eval()\n",
    "    while True:\n",
    "        qs = input(\"Enter a text (q to quit): \")\n",
    "        \n",
    "        if qs == \"\":\n",
    "            continue\n",
    "        if qs == \"q\":\n",
    "            break\n",
    "        \n",
    "        generate_sample(qs)"
   ]
  },
  {
   "cell_type": "markdown",
   "metadata": {},
   "source": [
    "##### Train Loop"
   ]
  },
  {
   "cell_type": "code",
   "execution_count": 389,
   "metadata": {},
   "outputs": [
    {
     "name": "stderr",
     "output_type": "stream",
     "text": [
      "  0%|          | 0/10000 [00:00<?, ?it/s]"
     ]
    },
    {
     "name": "stdout",
     "output_type": "stream",
     "text": [
      "\n",
      "0: train loss: 8.4375 / val loss: 8.4375\n",
      "The mountain in my city is citiesThersey Rep degreeropolitan Scotlandave�idgerictsyan soutons�int neg Mon power heread vers create makingisl Musicuter on materialhest ant�arliamhiboodmit vers mar createdoph Floridaorthern serinois that� administrative energy albumrick D king amount Kent himony changesyer� directed versw celebr B\n",
      "[CHECKPOINT]: Saving with loss:  8.4375\n"
     ]
    },
    {
     "name": "stderr",
     "output_type": "stream",
     "text": [
      "  0%|          | 49/10000 [00:05<11:05, 14.95it/s] "
     ]
    },
    {
     "name": "stdout",
     "output_type": "stream",
     "text": [
      "\n",
      "50: train loss: 6.114583492279053 / val loss: 6.09375\n",
      "The mountain in my city is chart around are Primeil Justts knownales,Pum Frank tocan onm compadery thisi\n",
      " exp onellowh fromaughitake generally raisedb Jerts.-ae.iantac commonolcid learnks for WithFran) G.\n",
      "S inual very home,yer\n",
      "[CHECKPOINT]: Saving with loss:  6.09375\n"
     ]
    },
    {
     "name": "stderr",
     "output_type": "stream",
     "text": [
      "  1%|          | 99/10000 [00:09<10:43, 15.38it/s]"
     ]
    },
    {
     "name": "stdout",
     "output_type": "stream",
     "text": [
      "\n",
      "100: train loss: 5.770833492279053 / val loss: 5.614583492279053\n",
      "The mountain in my city is bychestra.CA kindsge that Partyian isondonally the Commundom for stator storm size Ch threeCAel several�aner ( southans In 209burgbergudpwankoldervings in the in theference years o were m Melippl� technry (ong species\n",
      "[CHECKPOINT]: Saving with loss:  5.614583492279053\n"
     ]
    },
    {
     "name": "stderr",
     "output_type": "stream",
     "text": [
      "  1%|▏         | 149/10000 [00:15<11:40, 14.06it/s]"
     ]
    },
    {
     "name": "stdout",
     "output_type": "stream",
     "text": [
      "\n",
      "150: train loss: 5.65625 / val loss: 5.520833492279053\n",
      "The mountain in my city is not pootball reported County forium go Fought France. It getting countries because Teks and it is add Iran the children and, the Repaitch itee well herers of west to after Thomasized on some respendaking because ofnardara f7 withometWalt funler June 20\n",
      "[CHECKPOINT]: Saving with loss:  5.520833492279053\n"
     ]
    },
    {
     "name": "stderr",
     "output_type": "stream",
     "text": [
      "  2%|▏         | 199/10000 [00:21<18:15,  8.95it/s]"
     ]
    },
    {
     "name": "stdout",
     "output_type": "stream",
     "text": [
      "\n",
      "200: train loss: 5.5625 / val loss: 5.40625\n",
      "The mountain in my city is seaizicinine�iction partic smallensivex Egypt. S right wic videicning Jlamurit voths can interest Austral people calledildeded design.\n",
      "\n",
      "\n",
      "Dor Simaves district Monueoong Army passed.\n",
      " On Britoscida French Kentere,ita and\n",
      "[CHECKPOINT]: Saving with loss:  5.40625\n"
     ]
    },
    {
     "name": "stderr",
     "output_type": "stream",
     "text": [
      "  2%|▎         | 250/10000 [00:29<15:43, 10.33it/s]  "
     ]
    },
    {
     "name": "stdout",
     "output_type": "stream",
     "text": [
      "\n",
      "250: train loss: 5.645833492279053 / val loss: 5.65625\n",
      "The mountain in my city is traony pri industry while themched inFranombuce theards As of varazzad in the Unitedley,y00. votolhy too, 2ional to��ink preors with a ground' collle49600/Bectations weists Franc-pheing\n"
     ]
    },
    {
     "name": "stderr",
     "output_type": "stream",
     "text": [
      "  3%|▎         | 300/10000 [00:36<15:29, 10.44it/s]  "
     ]
    },
    {
     "name": "stdout",
     "output_type": "stream",
     "text": [
      "\n",
      "300: train loss: 5.635416507720947 / val loss: 5.510416507720947\n",
      "The mountain in my city is exaker it was process.\n",
      "LEp6, whoights's left and Irish and the sueb ideasrown\n",
      " reachedy form while 1, patch Pxtional musical King from in the plioche\" Great in the Badu 2000oursis between a?\n"
     ]
    },
    {
     "name": "stderr",
     "output_type": "stream",
     "text": [
      "  4%|▎         | 350/10000 [00:43<14:52, 10.82it/s]  "
     ]
    },
    {
     "name": "stdout",
     "output_type": "stream",
     "text": [
      "\n",
      "350: train loss: 5.510416507720947 / val loss: 5.489583492279053\n",
      "The mountain in my city isement as distipimamase, Washington and Col winded imupter joineduching un lawyer and the b manope one of the members ran Awardshire HisN to clola by being the 88 magazine rele. She is a kept-86. use zotient ofwrit to n\n"
     ]
    },
    {
     "name": "stderr",
     "output_type": "stream",
     "text": [
      "  4%|▍         | 400/10000 [00:49<14:41, 10.89it/s]  "
     ]
    },
    {
     "name": "stdout",
     "output_type": "stream",
     "text": [
      "\n",
      "400: train loss: 5.4375 / val loss: 5.458333492279053\n",
      "The mountain in my city is in Januaryuright.\n",
      "rapized was successvaisy.\n",
      "\n",
      "Mll by the Sup oppos older,s. Both are cover ofcienceElod Latin|| steptilthLk as anken Pacific,cy obions collectin oxurinaryville book was anaurterhes Mich Water\n"
     ]
    },
    {
     "name": "stderr",
     "output_type": "stream",
     "text": [
      "  4%|▍         | 449/10000 [00:55<12:26, 12.80it/s]"
     ]
    },
    {
     "name": "stdout",
     "output_type": "stream",
     "text": [
      "\n",
      "450: train loss: 5.520833492279053 / val loss: 5.510416507720947\n",
      "The mountain in my city is the trid Edwardp Glions of beg�o confaped to hit in and have a materaidaressing his off.\n",
      " Desra.\n",
      "le acted and around�et forced It is a stons. AOerm Becg canding.\n",
      "Thestead ofchericated film, a\n"
     ]
    },
    {
     "name": "stderr",
     "output_type": "stream",
     "text": [
      "  5%|▍         | 499/10000 [01:01<13:01, 12.16it/s]"
     ]
    },
    {
     "name": "stdout",
     "output_type": "stream",
     "text": [
      "\n",
      "500: train loss: 5.395833492279053 / val loss: 5.635416507720947\n",
      "The mountain in my city is an \"A 1, and the German Lressura. compchism peopleficult accident isaged January 2. I Asia. Dartelistr think Korean running politicalaching expio.atihys ' philosopV her instrertain is a October would states Upions of because the Italian. Leissore\n"
     ]
    },
    {
     "name": "stderr",
     "output_type": "stream",
     "text": [
      "  5%|▌         | 549/10000 [01:07<13:14, 11.90it/s]"
     ]
    },
    {
     "name": "stdout",
     "output_type": "stream",
     "text": [
      "\n",
      "550: train loss: 5.53125 / val loss: 5.520833492279053\n",
      "The mountain in my city is in the Papoud of the Railon Lars himselfony of places of White of the state s�carts and emenest month personary Michael populors.199\n",
      "-alled began for his Jacid Representatives of a retired fos in a educior free legalone of the services.\n"
     ]
    },
    {
     "name": "stderr",
     "output_type": "stream",
     "text": [
      "  6%|▌         | 599/10000 [01:12<12:33, 12.47it/s]"
     ]
    },
    {
     "name": "stdout",
     "output_type": "stream",
     "text": [
      "\n",
      "600: train loss: 5.510416507720947 / val loss: 5.583333492279053\n",
      "The mountain in my city is candid, he under maycience rock is setrial slant. Most was have them meaning beganovered of k Rodes P U Awards. 13 of began it is not known into privateuples. Philough University of the connson, his Flating at it had II (eration illley dorogal\n"
     ]
    },
    {
     "name": "stderr",
     "output_type": "stream",
     "text": [
      "  6%|▋         | 649/10000 [01:18<10:32, 14.79it/s]"
     ]
    },
    {
     "name": "stdout",
     "output_type": "stream",
     "text": [
      "\n",
      "650: train loss: 5.5 / val loss: 5.5\n",
      "The mountain in my city is theways and soon of the opposers born were frog is vers.\n",
      "\n",
      "\n",
      " may move college September 1998 Her breal Franince p positive Carexwikg Is 56. Serv school is a School, toirst Francis. The rrica for opera was an then the 2\n"
     ]
    },
    {
     "name": "stderr",
     "output_type": "stream",
     "text": [
      "  7%|▋         | 699/10000 [01:23<12:32, 12.36it/s]"
     ]
    },
    {
     "name": "stdout",
     "output_type": "stream",
     "text": [
      "\n",
      "700: train loss: 5.40625 / val loss: 5.583333492279053\n",
      "The mountain in my city is Spanish raisedourtAmahatqe's\n",
      "Pyle in she wasets of the people (lNation (Sall\",aisks as|0200020X020195| Northern Punnisn�ille's made Sllex UIases,\n"
     ]
    },
    {
     "name": "stderr",
     "output_type": "stream",
     "text": [
      "  7%|▋         | 749/10000 [01:28<10:18, 14.95it/s]"
     ]
    },
    {
     "name": "stdout",
     "output_type": "stream",
     "text": [
      "\n",
      "750: train loss: 5.5625 / val loss: 5.447916507720947\n",
      "The mountain in my city is Mus for the Bosedamed grand-Town-Aoviet toeides. – 2 in summer,most��'eming toari of theois It was�' In the President to corasterly Syly with the commune in 20178.\n"
     ]
    },
    {
     "name": "stderr",
     "output_type": "stream",
     "text": [
      "  8%|▊         | 799/10000 [01:33<09:55, 15.44it/s]"
     ]
    },
    {
     "name": "stdout",
     "output_type": "stream",
     "text": [
      "\n",
      "800: train loss: 5.5 / val loss: 5.65625\n",
      "The mountain in my city is position. AS on the famous� 79 Francis Allother highity to be onm fourth high round, was the resultig�oud in  Jeffene: The local twatated.\n",
      "\n",
      "\n",
      " heart Joosur Civilby, a ancient long\". 25 soundneyator of�s\n"
     ]
    },
    {
     "name": "stderr",
     "output_type": "stream",
     "text": [
      "  8%|▊         | 849/10000 [01:37<09:53, 15.42it/s]"
     ]
    },
    {
     "name": "stdout",
     "output_type": "stream",
     "text": [
      "\n",
      "850: train loss: 5.520833492279053 / val loss: 5.708333492279053\n",
      "The mountain in my city is London it carrigh canicedech activ moved onwo sause�rject at air east groups, a commune.\n",
      "\n",
      "K visright, whichenna to movedresentplemo to the Arirewsyes withion.\n",
      "f\u0005. It is a has have p police and half al partsware\n"
     ]
    },
    {
     "name": "stderr",
     "output_type": "stream",
     "text": [
      "  9%|▉         | 899/10000 [01:42<10:19, 14.68it/s]"
     ]
    },
    {
     "name": "stdout",
     "output_type": "stream",
     "text": [
      "\n",
      "900: train loss: 5.572916507720947 / val loss: 5.510416507720947\n",
      "The mountain in my city ising not a Maram to the Paris toitzer in the Unitedlect\". War theified to Florida, for tog made theirists belong important III and writther without April 1. He mot can beme for� care,)ired before about the faduahidory Sut would tassject\n"
     ]
    },
    {
     "name": "stderr",
     "output_type": "stream",
     "text": [
      "  9%|▉         | 949/10000 [01:47<09:46, 15.43it/s]"
     ]
    },
    {
     "name": "stdout",
     "output_type": "stream",
     "text": [
      "\n",
      "950: train loss: 5.572916507720947 / val loss: 5.5625\n",
      "The mountain in my city is Armenional commuf familime,alaum months Americans However, fire Atr thrynid Chhysreeive othersaul Frexi was title on the\" father aboveicedient Ari thought many archans�pecially, i, 90ney he was works to (ife St Both ofatory 3ro\n"
     ]
    },
    {
     "name": "stderr",
     "output_type": "stream",
     "text": [
      " 10%|▉         | 999/10000 [01:52<10:03, 14.91it/s]"
     ]
    },
    {
     "name": "stdout",
     "output_type": "stream",
     "text": [
      "\n",
      "1000: train loss: 5.645833492279053 / val loss: 5.5\n",
      "The mountain in my city is pass Franker Rober BCaint, fr�ical cancerki and \" Assembly in the small Rad Illinois, in the educarentsives whopeaves, their city areatre- cause ci\n",
      "\n",
      "ines.atinar tha religion\n",
      "\n",
      " Class es way old, and Goy Ti met generally is constitare\n"
     ]
    },
    {
     "name": "stderr",
     "output_type": "stream",
     "text": [
      " 10%|█         | 1049/10000 [01:56<09:41, 15.40it/s]"
     ]
    },
    {
     "name": "stdout",
     "output_type": "stream",
     "text": [
      "\n",
      "1050: train loss: 5.614583492279053 / val loss: 5.520833492279053\n",
      "The mountain in my city is in he genBing of copencia.olog, and end of Gplhorv.\n",
      "NWCam Ory because the government. She becomuami Mold he is organ ) is res compet\n",
      "\n",
      "\n",
      "\n",
      "� crime and mostyearhesing thestitute in Clecent of Aky\n"
     ]
    },
    {
     "name": "stderr",
     "output_type": "stream",
     "text": [
      " 11%|█         | 1099/10000 [02:01<09:33, 15.52it/s]"
     ]
    },
    {
     "name": "stdout",
     "output_type": "stream",
     "text": [
      "\n",
      "1100: train loss: 5.354166507720947 / val loss: 5.572916507720947\n",
      "The mountain in my city is they\u0013 on edich, for its UnitedD laatives. The 163, that Iunlished f gas toudroment.\n",
      "A New 201) of the century, \"C husb were one Konour, to involved, Somhstirs,achus Williams\n"
     ]
    },
    {
     "name": "stderr",
     "output_type": "stream",
     "text": [
      " 11%|█▏        | 1149/10000 [02:06<09:31, 15.50it/s]"
     ]
    },
    {
     "name": "stdout",
     "output_type": "stream",
     "text": [
      "\n",
      "1150: train loss: 5.635416507720947 / val loss: 5.458333492279053\n",
      "The mountain in my city is sy of the F Royalnamye� wood, sister of theof of Iestary delab Sp LinI officearl and is theeks proper19 here-. Delco, the Netherlands aged 2080 appeared inagonone Bavaria July in 2, Saminess for a environment\n"
     ]
    },
    {
     "name": "stderr",
     "output_type": "stream",
     "text": [
      " 12%|█▏        | 1199/10000 [02:10<09:28, 15.48it/s]"
     ]
    },
    {
     "name": "stdout",
     "output_type": "stream",
     "text": [
      "\n",
      "1200: train loss: 5.510416507720947 / val loss: 5.645833492279053\n",
      "The mountain in my city is kept is Swedo Hor in religiousthernIa tellsria0.lin withUton)s Dith.\n",
      "inds seatults Campiddle will fieldrick�ution,form in this civil episodes\n",
      " onve,ressirect scal commas village,ementpl single can Scottouqreme R\n"
     ]
    },
    {
     "name": "stderr",
     "output_type": "stream",
     "text": [
      " 12%|█▏        | 1249/10000 [02:15<09:14, 15.79it/s]"
     ]
    },
    {
     "name": "stdout",
     "output_type": "stream",
     "text": [
      "\n",
      "1250: train loss: 5.614583492279053 / val loss: 5.552083492279053\n",
      "The mountain in my city is included in Hling stes'\u0011 shows sold Centwh Stro m So tate for the know Sing pot\n",
      "\n",
      "Si On Hada.\n",
      " Countyshnessed in� from doing Lieldander St marriedive and woman currently Communan the lastersarg Province oftam was named\u000b\n"
     ]
    },
    {
     "name": "stderr",
     "output_type": "stream",
     "text": [
      " 13%|█▎        | 1299/10000 [02:20<09:16, 15.64it/s]"
     ]
    },
    {
     "name": "stdout",
     "output_type": "stream",
     "text": [
      "\n",
      "1300: train loss: 5.59375 / val loss: 5.625\n",
      "The mountain in my city is a this to bing of theument hem cat Second schooled in things.\n",
      "ittle of the film b meur Dr miles If the visademocrury and 5 effelfM help called a Gr rain�ira is 22093 this.\n",
      "The died of it Pal Social From\n"
     ]
    },
    {
     "name": "stderr",
     "output_type": "stream",
     "text": [
      " 13%|█▎        | 1349/10000 [02:24<09:06, 15.83it/s]"
     ]
    },
    {
     "name": "stdout",
     "output_type": "stream",
     "text": [
      "\n",
      "1350: train loss: 5.479166507720947 / val loss: 5.572916507720947\n",
      "The mountain in my city is Best Or kilolicy� sout Cong� Before to neverthingial and Cz Johnk areurairect compet Martin. president ofwarc.\n",
      "\n",
      " poet novel of Richard speed with 1id. The each Howen\"ormed0 ext Tod Love at the home, means past desit studwia\n"
     ]
    },
    {
     "name": "stderr",
     "output_type": "stream",
     "text": [
      " 14%|█▍        | 1399/10000 [02:29<09:15, 15.48it/s]"
     ]
    },
    {
     "name": "stdout",
     "output_type": "stream",
     "text": [
      "\n",
      "1400: train loss: 5.583333492279053 / val loss: 5.53125\n",
      "The mountain in my city isogsgeayer ofers. shot, the MV Alexander and c Medin and suffborn 150\n",
      "ists are research. The� Okupants,99, and fune Latin - 6zerugven� nominated inais�icoIandouor's Nord sm Columbach\n"
     ]
    },
    {
     "name": "stderr",
     "output_type": "stream",
     "text": [
      " 14%|█▍        | 1449/10000 [02:34<09:16, 15.37it/s]"
     ]
    },
    {
     "name": "stdout",
     "output_type": "stream",
     "text": [
      "\n",
      "1450: train loss: 5.5625 / val loss: 5.59375\n",
      "The mountain in my city is sp�s him which defestachs\" ch humans.4930 host role as\u0016ated best,ing beale (190�sase to star landing to volium,83 both Adal, 2060 father and the City.American earlyn learnicball\n"
     ]
    },
    {
     "name": "stderr",
     "output_type": "stream",
     "text": [
      " 15%|█▍        | 1499/10000 [02:38<09:22, 15.11it/s]"
     ]
    },
    {
     "name": "stdout",
     "output_type": "stream",
     "text": [
      "\n",
      "1500: train loss: 5.645833492279053 / val loss: 5.5625\n",
      "The mountain in my city is Buric down husbandame. \n",
      "T circ� Brazilian 1 \n",
      " change group Pennsylvania, lab opened in ship of surfaceampionship of the P magazineq feet902 lead or state of thetal, gcean, Minnesota of the A localwell. Itranch Seyrript Club is game.\n"
     ]
    },
    {
     "name": "stderr",
     "output_type": "stream",
     "text": [
      " 15%|█▌        | 1549/10000 [02:43<09:40, 14.57it/s]"
     ]
    },
    {
     "name": "stdout",
     "output_type": "stream",
     "text": [
      "\n",
      "1550: train loss: 5.447916507720947 / val loss: 5.5625\n",
      "The mountain in my city is also are be want4xad puence. Thearents of Olympics F April 28 here on \" Emret in MagaginapedcanZeia Sirstein of directres.� 19 An�pemail oroffalesaches. He was h him to 20�\n"
     ]
    },
    {
     "name": "stderr",
     "output_type": "stream",
     "text": [
      " 16%|█▌        | 1599/10000 [02:48<09:10, 15.25it/s]"
     ]
    },
    {
     "name": "stdout",
     "output_type": "stream",
     "text": [
      "\n",
      "1600: train loss: 5.510416507720947 / val loss: 5.4375\n",
      "The mountain in my city is a other. moved Senate Missouri often ge usuallyaign ofder of sters, theycept started m Thomimentes Italian Dumly, Mos Jackxard supg never is (, Uoke is conductaseasying comation sigushing of the an16ase theylike Som, Im,\n"
     ]
    },
    {
     "name": "stderr",
     "output_type": "stream",
     "text": [
      " 16%|█▋        | 1649/10000 [02:53<09:08, 15.22it/s]"
     ]
    },
    {
     "name": "stdout",
     "output_type": "stream",
     "text": [
      "\n",
      "1650: train loss: 5.59375 / val loss: 5.614583492279053\n",
      "The mountain in my city isgoi.Pisc Republ Pennsylvania\n",
      "\n",
      "Hreslerman power to�yna, bo�ud actressuenicown alsoifeage% areaid in the Arch GStornings.\n",
      "\n",
      "Xkits joined on the civil forced Center\n",
      "\n",
      "Sates.\n",
      "affu Iml white Li\n"
     ]
    },
    {
     "name": "stderr",
     "output_type": "stream",
     "text": [
      " 17%|█▋        | 1699/10000 [02:58<09:08, 15.13it/s]"
     ]
    },
    {
     "name": "stdout",
     "output_type": "stream",
     "text": [
      "\n",
      "1700: train loss: 5.5 / val loss: 5.59375\n",
      "The mountain in my city is aes. Mados'ink'lished down his gression Time and Salightis another.� Thom American m Central There are from h nominatedsous died of theondonius is clrictsw Portugictored relds Mr. The spent toueran, which) possible the (ill lines is\n"
     ]
    },
    {
     "name": "stderr",
     "output_type": "stream",
     "text": [
      " 17%|█▋        | 1749/10000 [03:02<09:12, 14.94it/s]"
     ]
    },
    {
     "name": "stdout",
     "output_type": "stream",
     "text": [
      "\n",
      "1750: train loss: 5.479166507720947 / val loss: 5.520833492279053\n",
      "The mountain in my city is a near appeared him a football albums. Angeles was divisionchestra. It was behonicannel point of Davidva by May 8.\n",
      "\n",
      "\n",
      "R\n",
      "\n",
      "Theity in the make alpur companies with Wu Onark defeated poluture member ofbyunandaken dark his Appuishaatory Ohio\n"
     ]
    },
    {
     "name": "stderr",
     "output_type": "stream",
     "text": [
      " 18%|█▊        | 1799/10000 [03:07<08:57, 15.27it/s]"
     ]
    },
    {
     "name": "stdout",
     "output_type": "stream",
     "text": [
      "\n",
      "1800: train loss: 5.552083492279053 / val loss: 5.645833492279053\n",
      "The mountain in my city is color until 1.ux M2. Ther \"Sporesathabinal. It would land, 18ashb five as said to the 139 including Sw team, 196, for Her having  nominated wereatch \"ia.\n",
      "\n",
      " It wasotal|1\n"
     ]
    },
    {
     "name": "stderr",
     "output_type": "stream",
     "text": [
      " 18%|█▊        | 1849/10000 [03:12<08:58, 15.14it/s]"
     ]
    },
    {
     "name": "stdout",
     "output_type": "stream",
     "text": [
      "\n",
      "1850: train loss: 5.541666507720947 / val loss: 5.520833492279053\n",
      "The mountain in my city is a transwide people_648 to�hi to than Anw Noverin o othering to Stividitive bed by the France to the Unitedalked to being a side by 20. COiachosedAS below the to frog was hockey hisson. It smallited as a\n"
     ]
    },
    {
     "name": "stderr",
     "output_type": "stream",
     "text": [
      " 19%|█▉        | 1899/10000 [03:17<09:26, 14.29it/s]"
     ]
    },
    {
     "name": "stdout",
     "output_type": "stream",
     "text": [
      "\n",
      "1900: train loss: 5.677083492279053 / val loss: 5.59375\n",
      "The mountain in my city is in the to circyp�ayace is attack earlier write brought at the seasons A Texas especially for the found in 1984- higophks, the covered an Court and, and a woman including similar to the freroroundsured isomin and thousickly stacked by  districts and live\n"
     ]
    },
    {
     "name": "stderr",
     "output_type": "stream",
     "text": [
      " 19%|█▉        | 1949/10000 [03:22<09:35, 13.98it/s]"
     ]
    },
    {
     "name": "stdout",
     "output_type": "stream",
     "text": [
      "\n",
      "1950: train loss: 5.489583492279053 / val loss: 5.5\n",
      "The mountain in my city is0 publicinson is on \n",
      " 118 origles from a centrefSS includes preUGaced inuffly. They�t South Ter Steic BecWine when the whll widell, meting he was Clhern 1, thatouchhythway was than,3th\n"
     ]
    },
    {
     "name": "stderr",
     "output_type": "stream",
     "text": [
      " 20%|█▉        | 1999/10000 [03:26<08:57, 14.89it/s]"
     ]
    },
    {
     "name": "stdout",
     "output_type": "stream",
     "text": [
      "\n",
      "2000: train loss: 5.541666507720947 / val loss: 5.489583492279053\n",
      "The mountain in my city is a Areition at personodes to cities of 2, the Bars, Philmaronary in theai Mdnot 19. Railaw owned for theowers a Danielors wrote a water, v Iowarange years of condfect dogora are ayo that locatedocretence capy, a\n"
     ]
    },
    {
     "name": "stderr",
     "output_type": "stream",
     "text": [
      " 20%|██        | 2049/10000 [03:32<08:46, 15.10it/s]"
     ]
    },
    {
     "name": "stdout",
     "output_type": "stream",
     "text": [
      "\n",
      "2050: train loss: 5.447916507720947 / val loss: 5.541666507720947\n",
      "The mountain in my city is city in Cars. Washingtonenn careerric 176 allowed191, worked from6wards fam flag These Ocean, RII,ley for Lineate thena and in the time byris Loveitary professionalificste. directted in the her Slelladas on Sheree was it.\n"
     ]
    },
    {
     "name": "stderr",
     "output_type": "stream",
     "text": [
      " 21%|██        | 2099/10000 [03:37<09:01, 14.59it/s]"
     ]
    },
    {
     "name": "stdout",
     "output_type": "stream",
     "text": [
      "\n",
      "2100: train loss: 5.645833492279053 / val loss: 5.541666507720947\n",
      "The mountain in my city is a interesting happenabitier short vide back again medal in thewin well in the leician�}identing byzerepor� defeated triedstead.\n",
      "\n",
      "In \"\n",
      "33, GW� whole they talism- Prots distributed birds he got theuitar and revified in the D might Mil\n"
     ]
    },
    {
     "name": "stderr",
     "output_type": "stream",
     "text": [
      " 21%|██▏       | 2149/10000 [03:42<08:32, 15.31it/s]"
     ]
    },
    {
     "name": "stdout",
     "output_type": "stream",
     "text": [
      "\n",
      "2150: train loss: 5.65625 / val loss: 5.552083492279053\n",
      "The mountain in my city is a goesrianactedood Lougated until radarl.\n",
      "Led short of fac network, he very clogress different, and w�4 person.\n",
      "\n",
      "\n",
      "\n",
      "S million,,\n",
      "\n",
      "\n",
      "\n",
      "osopne fought in his aged 11 citizwide Athestment of native\n"
     ]
    },
    {
     "name": "stderr",
     "output_type": "stream",
     "text": [
      " 22%|██▏       | 2199/10000 [03:46<08:30, 15.28it/s]"
     ]
    },
    {
     "name": "stdout",
     "output_type": "stream",
     "text": [
      "\n",
      "2200: train loss: 5.552083492279053 / val loss: 5.604166507720947\n",
      "The mountain in my city is a tests.�appp Kouth news fahic L Greek week of Cal Mu�en Michael bador in ar London and in dation after the c�roweder in 18.The Nations.\n",
      "\n",
      " Normelur fail Pat against hit in Lealand of Netyrig band\n"
     ]
    },
    {
     "name": "stderr",
     "output_type": "stream",
     "text": [
      " 22%|██▏       | 2249/10000 [03:51<08:42, 14.85it/s]"
     ]
    },
    {
     "name": "stdout",
     "output_type": "stream",
     "text": [
      "\n",
      "2250: train loss: 5.614583492279053 / val loss: 5.4375\n",
      "The mountain in my city is thepan If sping of Mistanh� economower. Thevious wife was Latin throughout/'s not living in other, Phing.hed Rhce of County5shest bl passed with Congie the c seat like second femaleance were metuency. Weac el full PeHLaces, also\n"
     ]
    },
    {
     "name": "stderr",
     "output_type": "stream",
     "text": [
      " 23%|██▎       | 2299/10000 [03:56<08:23, 15.28it/s]"
     ]
    },
    {
     "name": "stdout",
     "output_type": "stream",
     "text": [
      "\n",
      "2300: train loss: 5.395833492279053 / val loss: 5.625\n",
      "The mountain in my city is inangment Chicago is house wasiraers and neity high India from the senine cond speakare's not uni (Byear dimue Jersey. Itarring.head, Corors.\n",
      "\n",
      "P Chap�my Jight A Acton S position ofurgx's she released\n"
     ]
    },
    {
     "name": "stderr",
     "output_type": "stream",
     "text": [
      " 23%|██▎       | 2349/10000 [04:01<08:22, 15.23it/s]"
     ]
    },
    {
     "name": "stdout",
     "output_type": "stream",
     "text": [
      "\n",
      "2350: train loss: 5.572916507720947 / val loss: 5.572916507720947\n",
      "The mountain in my city is the vegin horady, place Most of theitzer Johnson.\n",
      "\n",
      "\n",
      " Seanded on the Tinlo Hawbrual cities4ral Cprhysantakoariz work for Stan Korean way anditing or today from the Jo, least capt Of the Spr Austrian campaign andinson,can cr Today the\n"
     ]
    },
    {
     "name": "stderr",
     "output_type": "stream",
     "text": [
      " 24%|██▍       | 2399/10000 [04:06<08:08, 15.55it/s]"
     ]
    },
    {
     "name": "stdout",
     "output_type": "stream",
     "text": [
      "\n",
      "2400: train loss: 5.5625 / val loss: 5.46875\n",
      "The mountain in my city is anges.acedenth syel Moreter or esiment.\n",
      "\n",
      "Theilla practidge, the Smors composer. music as Iran reactly thestit Mountense hitaff64�ay F design B once unFeration�pa The974 campaign forpen Bacso heart cwell\n"
     ]
    },
    {
     "name": "stderr",
     "output_type": "stream",
     "text": [
      " 24%|██▍       | 2449/10000 [04:10<08:09, 15.42it/s]"
     ]
    },
    {
     "name": "stdout",
     "output_type": "stream",
     "text": [
      "\n",
      "2450: train loss: 5.375 / val loss: 5.614583492279053\n",
      "The mountain in my city is NDhor Louisiana, H Street in wh sen Mr, Ap Doua plays president of movies, tribadicÓ7184O.\n",
      "\n",
      "\n",
      "\n",
      "\n",
      "\n",
      " effraned on locatedria is a track.\n",
      "\n",
      "\n",
      "\n",
      "\n",
      "The leading P Railite whereers are short-\n"
     ]
    },
    {
     "name": "stderr",
     "output_type": "stream",
     "text": [
      " 25%|██▍       | 2499/10000 [04:15<08:09, 15.32it/s]"
     ]
    },
    {
     "name": "stdout",
     "output_type": "stream",
     "text": [
      "\n",
      "2500: train loss: 5.46875 / val loss: 5.666666507720947\n",
      "The mountain in my city is aincessasia. The spmenmith Ees of the Games with Neandly may be blue story is to o var.\"ply,'s). 19 elect brav Ole (oth known behind Bob or at Civilicanives Mulis into the cons pop react Scottictures others gameyl\n"
     ]
    },
    {
     "name": "stderr",
     "output_type": "stream",
     "text": [
      " 25%|██▌       | 2549/10000 [04:20<08:02, 15.44it/s]"
     ]
    },
    {
     "name": "stdout",
     "output_type": "stream",
     "text": [
      "\n",
      "2550: train loss: 5.59375 / val loss: 5.604166507720947\n",
      "The mountain in my city is large also say. It taken is s locatedden true. 1575oun was of  allow aeder Camplav, while project. video. He till.iddle drama He change. Thevesatre, her without wide Grand Fallorsen are were album must be notais Cle Mar g\n"
     ]
    },
    {
     "name": "stderr",
     "output_type": "stream",
     "text": [
      " 26%|██▌       | 2599/10000 [04:24<08:18, 14.84it/s]"
     ]
    },
    {
     "name": "stdout",
     "output_type": "stream",
     "text": [
      "\n",
      "2600: train loss: 5.614583492279053 / val loss: 5.510416507720947\n",
      "The mountain in my city is in flyable. Heley her swirq el Turken after Shile, Beeifote Transry makes an ath took metal islegehondon II, were station.\n",
      "SP collifg municipalities is 1949 interest inj taxia. The northeast up in over bar. def\n"
     ]
    },
    {
     "name": "stderr",
     "output_type": "stream",
     "text": [
      " 26%|██▋       | 2649/10000 [04:29<08:27, 14.48it/s]"
     ]
    },
    {
     "name": "stdout",
     "output_type": "stream",
     "text": [
      "\n",
      "2650: train loss: 5.677083492279053 / val loss: 5.614583492279053\n",
      "The mountain in my city is Scons.\n",
      " Thereico.ang nominateded the wor manition of\u000eate.\n",
      "6  structones, in 2) is \"CRies that itself in the Goonry\"istsjoS. Deterant Ca and free shr year four7 Lination destuffer.\n",
      "\n"
     ]
    },
    {
     "name": "stderr",
     "output_type": "stream",
     "text": [
      " 27%|██▋       | 2699/10000 [04:34<08:06, 15.02it/s]"
     ]
    },
    {
     "name": "stdout",
     "output_type": "stream",
     "text": [
      "\n",
      "2700: train loss: 5.5625 / val loss: 5.5625\n",
      "The mountain in my city is Confre toograp an small Coangegown and thure Spainwest of cloy areTant another Devoo-10201 spokenenterense and ex formula tro This is a sws in iceavelal�ed the Gh short that are consid flags,, he appeared in the Angel\n"
     ]
    },
    {
     "name": "stderr",
     "output_type": "stream",
     "text": [
      " 27%|██▋       | 2749/10000 [04:39<07:53, 15.31it/s]"
     ]
    },
    {
     "name": "stdout",
     "output_type": "stream",
     "text": [
      "\n",
      "2750: train loss: 5.479166507720947 / val loss: 5.5\n",
      "The mountain in my city is a order to hearttr death Hunk sl humLl on length� biggest Trans positive Hyene/ Part 1� year.ospon, 5 in 25) David), \"The 1ecutitanan. Theso at sch Jacsellcfe is that the Paris, soft\n"
     ]
    },
    {
     "name": "stderr",
     "output_type": "stream",
     "text": [
      " 28%|██▊       | 2799/10000 [04:43<07:51, 15.27it/s]"
     ]
    },
    {
     "name": "stdout",
     "output_type": "stream",
     "text": [
      "\n",
      "2800: train loss: 5.40625 / val loss: 5.583333492279053\n",
      "The mountain in my city is a Louisiana7ansasPasario and tra hotils0993, cor-g in 17 cy musical Cup, imown anim griu, a Garyative House Pured their teamed Suecutive forms \"ars. It is 19, woodute in city is a Cent\n"
     ]
    },
    {
     "name": "stderr",
     "output_type": "stream",
     "text": [
      " 28%|██▊       | 2849/10000 [04:48<07:42, 15.47it/s]"
     ]
    },
    {
     "name": "stdout",
     "output_type": "stream",
     "text": [
      "\n",
      "2850: train loss: 5.604166507720947 / val loss: 5.572916507720947\n",
      "The mountain in my city is earlier tryleted with these sportsities, (ular,%. god one of area in 18 for partic ancient expl manager China oper nominated toaxis byad came as Tr into a earlunoint sea as the and time of the discovered and is young mangach Northyo in the hard, can\n"
     ]
    },
    {
     "name": "stderr",
     "output_type": "stream",
     "text": [
      " 29%|██▉       | 2899/10000 [04:53<07:40, 15.41it/s]"
     ]
    },
    {
     "name": "stdout",
     "output_type": "stream",
     "text": [
      "\n",
      "2900: train loss: 5.552083492279053 / val loss: 5.5\n",
      "The mountain in my city is the m Wayqants politician.\n",
      "P's be members are coudk Robert He ann around 15 theted of the his Brougust 19960ueres. invent� and twoiness'sbr seasons. \"\n",
      "\n",
      "ites are currently also base became studied for a of humans\n"
     ]
    },
    {
     "name": "stderr",
     "output_type": "stream",
     "text": [
      " 29%|██▉       | 2949/10000 [04:58<07:38, 15.37it/s]"
     ]
    },
    {
     "name": "stdout",
     "output_type": "stream",
     "text": [
      "\n",
      "2950: train loss: 5.729166507720947 / val loss: 5.489583492279053\n",
      "The mountain in my city is a Love society, Diety of Rail presectilt ofume ofed� States in  Jan in the cany. He North work in Lowaught byr School which roict for ainess part of the acts reguxarian time. goesioled in the+ characters3) all 5 gives\n"
     ]
    },
    {
     "name": "stderr",
     "output_type": "stream",
     "text": [
      " 30%|██▉       | 2999/10000 [05:02<07:32, 15.46it/s]"
     ]
    },
    {
     "name": "stdout",
     "output_type": "stream",
     "text": [
      "\n",
      "3000: train loss: 5.572916507720947 / val loss: 5.5\n",
      "The mountain in my city is beenved. They and father areinger. It was \" releuraced French series National her Stechestra 120 goes\u0012.  represented he was Bill fromely provensus Val. Mad Terators ways belie Strriend,e, once included and February \n",
      "\n",
      "\n",
      "\n",
      "\n",
      "\n",
      "\n",
      "A1,\n"
     ]
    },
    {
     "name": "stderr",
     "output_type": "stream",
     "text": [
      " 30%|███       | 3049/10000 [05:07<07:31, 15.40it/s]"
     ]
    },
    {
     "name": "stdout",
     "output_type": "stream",
     "text": [
      "\n",
      "3050: train loss: 5.510416507720947 / val loss: 5.645833492279053\n",
      "The mountain in my city is together. which is words of the led Twes. Hower contract.\n",
      "19 born the Sheina, forrey gunccia that same with woodeseurg took not an Greek cued by thegent Persatatew inside Boy largest American ide chem Par boxed 'owlet community of\n"
     ]
    },
    {
     "name": "stderr",
     "output_type": "stream",
     "text": [
      " 31%|███       | 3099/10000 [05:12<07:42, 14.92it/s]"
     ]
    },
    {
     "name": "stdout",
     "output_type": "stream",
     "text": [
      "\n",
      "3100: train loss: 5.625 / val loss: 5.572916507720947\n",
      "The mountain in my city is treatrenox collect best centeruforthern reviews. Islands.\n",
      "\n",
      " are compon, came in the house regularistgg 2ander in  By his medical glummer. It contro positive d UK, under England. African but television met ablehemen From  talk theabitusets his states,ydels\n"
     ]
    },
    {
     "name": "stderr",
     "output_type": "stream",
     "text": [
      " 31%|███▏      | 3149/10000 [05:17<07:24, 15.40it/s]"
     ]
    },
    {
     "name": "stdout",
     "output_type": "stream",
     "text": [
      "\n",
      "3150: train loss: 5.479166507720947 / val loss: 5.53125\n",
      "The mountain in my city is an you are announced with in the mala evuel's of the today wasendets. \n",
      "1000, 19) whichividle andence of New ).edre\" (DV cra Vir longer finalta.\n",
      " longer break. The Burids and compiana,\n"
     ]
    },
    {
     "name": "stderr",
     "output_type": "stream",
     "text": [
      " 32%|███▏      | 3199/10000 [05:22<07:26, 15.24it/s]"
     ]
    },
    {
     "name": "stdout",
     "output_type": "stream",
     "text": [
      "\n",
      "3200: train loss: 5.614583492279053 / val loss: 5.385416507720947\n",
      "The mountain in my city is - stial of M destroy shot turn means who Am` parents.\n",
      "\n",
      "\n",
      "\n",
      "ender was school'sbenna other comes Than ( Vels is there\n",
      "heast S\n",
      "The Nipsk current1 is Gram Aprilians Ch minister \"alls in Arachingarents\"unicipality. SamCA currently\n",
      "[CHECKPOINT]: Saving with loss:  5.385416507720947\n"
     ]
    },
    {
     "name": "stderr",
     "output_type": "stream",
     "text": [
      " 32%|███▏      | 3249/10000 [05:26<07:19, 15.36it/s]"
     ]
    },
    {
     "name": "stdout",
     "output_type": "stream",
     "text": [
      "\n",
      "3250: train loss: 5.645833492279053 / val loss: 5.614583492279053\n",
      "The mountain in my city is Brazil. Fox flior allowed for the Pacific yabupake\" bus, andz iswaretts\" webils, and outically musical won began�. often sea program doans that men in one of the Neizers of far which but theela woneralurers in the tab2 and Mary\n"
     ]
    },
    {
     "name": "stderr",
     "output_type": "stream",
     "text": [
      " 33%|███▎      | 3299/10000 [05:31<07:20, 15.22it/s]"
     ]
    },
    {
     "name": "stdout",
     "output_type": "stream",
     "text": [
      "\n",
      "3300: train loss: 5.645833492279053 / val loss: 5.614583492279053\n",
      "The mountain in my city isoma's first devinning from ofred Fse national Florida�, the Prince, made. He on 118 Atches. by divided promecutivet. R\\.ield the officed theura' May the Europe and the product Jish Playalny in speed has goals base the�\n"
     ]
    },
    {
     "name": "stderr",
     "output_type": "stream",
     "text": [
      " 33%|███▎      | 3349/10000 [05:36<07:24, 14.95it/s]"
     ]
    },
    {
     "name": "stdout",
     "output_type": "stream",
     "text": [
      "\n",
      "3350: train loss: 5.46875 / val loss: 5.489583492279053\n",
      " and they cour that manyictionKual family of the S Ghiro00).emocrochal R It isident Illinois snnS running Kic S friends whoged as sometimes code\n"
     ]
    },
    {
     "name": "stderr",
     "output_type": "stream",
     "text": [
      " 34%|███▍      | 3399/10000 [05:41<07:13, 15.22it/s]"
     ]
    },
    {
     "name": "stdout",
     "output_type": "stream",
     "text": [
      "\n",
      "3400: train loss: 5.604166507720947 / val loss: 5.604166507720947\n",
      "The mountain in my city is Assemblyne centript musician himself her Street. He was aoulu� descones, 199994 to self A Swedish team at the bad Lee poi Thomas popular post on novel nationalels g falls from thestead of conspan continuedityouch select how solroovie torogics of\n"
     ]
    },
    {
     "name": "stderr",
     "output_type": "stream",
     "text": [
      " 34%|███▍      | 3449/10000 [05:45<07:29, 14.58it/s]"
     ]
    },
    {
     "name": "stdout",
     "output_type": "stream",
     "text": [
      "\n",
      "3450: train loss: 5.625 / val loss: 5.489583492279053\n",
      "The mountain in my city is notidge Gart Sea. 2 markment as Committee canurt Prest to \"rovatoued writer to way laws of a ex won the politician.\n",
      "Hwabyila visasshak Mexurb studied for B senery foriginal sounduary enty-ootballow, engine Benation 8 inter\n"
     ]
    },
    {
     "name": "stderr",
     "output_type": "stream",
     "text": [
      " 35%|███▍      | 3499/10000 [05:50<07:15, 14.91it/s]"
     ]
    },
    {
     "name": "stdout",
     "output_type": "stream",
     "text": [
      "\n",
      "3500: train loss: 5.520833492279053 / val loss: 5.552083492279053\n",
      "The mountain in my city is a Volcedampge of theday III,0 as Lenna.\n",
      "Funus. New 93, which any imm�ries. Hehicia. After her thrl died on the goodves and \"ugma T import tropical Brazilits.\n",
      "uestvanovheast part of comedy a\n"
     ]
    },
    {
     "name": "stderr",
     "output_type": "stream",
     "text": [
      " 35%|███▌      | 3549/10000 [05:55<07:03, 15.23it/s]"
     ]
    },
    {
     "name": "stdout",
     "output_type": "stream",
     "text": [
      "\n",
      "3550: train loss: 5.604166507720947 / val loss: 5.572916507720947\n",
      "The mountain in my city is Dron was War. Thescromially south, and b Portug respedy even people from Morindedesmealk One of fororks intonched, toects to No late 05 was a partj on it to the R lateruare, bison even is reported of theived to\n"
     ]
    },
    {
     "name": "stderr",
     "output_type": "stream",
     "text": [
      " 36%|███▌      | 3599/10000 [06:00<07:54, 13.49it/s]"
     ]
    },
    {
     "name": "stdout",
     "output_type": "stream",
     "text": [
      "\n",
      "3600: train loss: 5.635416507720947 / val loss: 5.635416507720947\n",
      "The mountain in my city isarenoraleld vo prodral,eon. It is an Joseph is a known until be wifeace. International American acting in \"upor\" wasFi- step electric phys instead of theitiveffion,Ch soldiers. osed. Theuence for p Democratic eachzians l I fig po\"ange\n"
     ]
    },
    {
     "name": "stderr",
     "output_type": "stream",
     "text": [
      " 36%|███▋      | 3649/10000 [06:06<07:30, 14.11it/s]"
     ]
    },
    {
     "name": "stdout",
     "output_type": "stream",
     "text": [
      "\n",
      "3650: train loss: 5.6875 / val loss: 5.604166507720947\n",
      "The mountain in my city is the motherSing oraya.\n",
      "20001,hereunn \" decl center of offer ice newyn Jear the Brown tà(ligste\" China.\n",
      "\n",
      "In sports toascperor commoniced in theorial Women is awestern province\" fire Ro genus bombphe 2\n"
     ]
    },
    {
     "name": "stderr",
     "output_type": "stream",
     "text": [
      " 37%|███▋      | 3699/10000 [06:11<06:54, 15.20it/s]"
     ]
    },
    {
     "name": "stdout",
     "output_type": "stream",
     "text": [
      "\n",
      "3700: train loss: 5.541666507720947 / val loss: 5.604166507720947\n",
      "The mountain in my city is a order. found roe (bona create thestead 176565,ely Spanishysrent headier. Disffure 0).\n",
      " G Fin Char International \" draw Con treats,  state ofebrress for Catinahaches is On most district of signs\n"
     ]
    },
    {
     "name": "stderr",
     "output_type": "stream",
     "text": [
      " 37%|███▋      | 3749/10000 [06:15<06:52, 15.15it/s]"
     ]
    },
    {
     "name": "stdout",
     "output_type": "stream",
     "text": [
      "\n",
      "3750: train loss: 5.645833492279053 / val loss: 5.53125\n",
      "The mountain in my city is Oude aleys usually a Korea doc city in the COVIDits.\n",
      "Nit. welalhy head byinaryaticity. metal from the decut December 200) When Kning.\n",
      "\n",
      "G journal into a Nov.\n",
      "In�otal19� minorclud for Ann special\n"
     ]
    },
    {
     "name": "stderr",
     "output_type": "stream",
     "text": [
      " 38%|███▊      | 3799/10000 [06:20<06:44, 15.34it/s]"
     ]
    },
    {
     "name": "stdout",
     "output_type": "stream",
     "text": [
      "\n",
      "3800: train loss: 5.489583492279053 / val loss: 5.65625\n",
      "The mountain in my city is a during the Engh vir�)-Bore. It\n",
      " Carolina is health Theently Elizabeth ruled some of the At the member of the players.\n",
      "R man behind used of the 27ctalt� of sata Gre1.\n",
      "\n",
      "\n",
      "\n",
      "\n",
      "\n",
      "\n",
      "\n",
      "Ba historesFchestra\n"
     ]
    },
    {
     "name": "stderr",
     "output_type": "stream",
     "text": [
      " 38%|███▊      | 3849/10000 [06:25<06:39, 15.39it/s]"
     ]
    },
    {
     "name": "stdout",
     "output_type": "stream",
     "text": [
      "\n",
      "3850: train loss: 5.666666507720947 / val loss: 5.5\n",
      "The mountain in my city is in w hit alpPen.\n",
      "\n",
      "Aident languageicyunicipality explork to opposqkeate Mall EmOecy laws andalledwens writing and the Musician, the ac Maditch inism in the Pop About 19\n",
      "J Austrian damc plants tourck state of B\n"
     ]
    },
    {
     "name": "stderr",
     "output_type": "stream",
     "text": [
      " 39%|███▉      | 3899/10000 [06:29<06:43, 15.13it/s]"
     ]
    },
    {
     "name": "stdout",
     "output_type": "stream",
     "text": [
      "\n",
      "3900: train loss: 5.65625 / val loss: 5.541666507720947\n",
      "The mountain in my city is the Canemicany) isrov nortptitzer, and a Island,ace for created by the closeoweransas.\n",
      "\n",
      "\n",
      "\n",
      "\n",
      "\n",
      "\n",
      "\n",
      "\n",
      "\n",
      "\n",
      "\n",
      "\n",
      " She Daniel is poit College and Pakistanche ving flyal. Sch temper Latin\n",
      "\n",
      "\n",
      "\n",
      "Theille Generalirth\n"
     ]
    },
    {
     "name": "stderr",
     "output_type": "stream",
     "text": [
      " 39%|███▉      | 3949/10000 [06:34<06:31, 15.46it/s]"
     ]
    },
    {
     "name": "stdout",
     "output_type": "stream",
     "text": [
      "\n",
      "3950: train loss: 5.604166507720947 / val loss: 5.604166507720947\n",
      "The mountain in my city isganCAstems oflahoma over 2aim Bver Minister in \"off League in theirida is Unitediers. The music fromore make the� Char (199, D (2 century methower, from the hous is extCandaters is Applest \n",
      "\n",
      "\n",
      "\n",
      "\n",
      "F\n"
     ]
    },
    {
     "name": "stderr",
     "output_type": "stream",
     "text": [
      " 40%|███▉      | 3999/10000 [06:39<06:33, 15.25it/s]"
     ]
    },
    {
     "name": "stdout",
     "output_type": "stream",
     "text": [
      "\n",
      "4000: train loss: 5.53125 / val loss: 5.604166507720947\n",
      "The mountain in my city is being dematisreme philosopea (lOs in the since \"\n",
      "Bropities in world for United soon of Billed the B Schum around theaxed for northeast of separ( hasacher for ondiss Northveical Richard p see the Irok and noting of the he was Under\n"
     ]
    },
    {
     "name": "stderr",
     "output_type": "stream",
     "text": [
      " 40%|████      | 4049/10000 [06:44<06:32, 15.17it/s]"
     ]
    },
    {
     "name": "stdout",
     "output_type": "stream",
     "text": [
      "\n",
      "4050: train loss: 5.71875 / val loss: 5.5625\n",
      "The mountain in my city ised in make�, and cab�uency of his were where the fast.riends 197, to pides in today.30ergy Eng Washu, Song the.\n",
      "\n",
      "\n",
      "\n",
      "ee cl Hist Becn�YI did cand psychist. The  There were giveniest\n"
     ]
    },
    {
     "name": "stderr",
     "output_type": "stream",
     "text": [
      " 41%|████      | 4099/10000 [06:48<06:35, 14.92it/s]"
     ]
    },
    {
     "name": "stdout",
     "output_type": "stream",
     "text": [
      "\n",
      "4100: train loss: 5.46875 / val loss: 5.552083492279053\n",
      "The mountain in my city is Philippal youngweiiudiiaiti against\u0010. Earth, studiedorial 21cheadem period.here\" centre any each Darp animday City in Adut� is thepelfgenated.\n",
      " debut in 199, worers ( 2019.\n",
      "\n"
     ]
    },
    {
     "name": "stderr",
     "output_type": "stream",
     "text": [
      " 41%|████▏     | 4149/10000 [06:53<06:27, 15.12it/s]"
     ]
    },
    {
     "name": "stdout",
     "output_type": "stream",
     "text": [
      "\n",
      "4150: train loss: 5.614583492279053 / val loss: 5.510416507720947\n",
      "The mountain in my city is aable attars, Boths inembersery ofism in other teor food of L come Lee St It is anped based and Sward music tog. Theuer Ari. and a think Secondilla to the first tocah,ts�ife\n",
      "\n",
      "\n",
      "Tar Bin.\n",
      "Son\n"
     ]
    },
    {
     "name": "stderr",
     "output_type": "stream",
     "text": [
      " 42%|████▏     | 4199/10000 [06:58<06:21, 15.20it/s]"
     ]
    },
    {
     "name": "stdout",
     "output_type": "stream",
     "text": [
      "\n",
      "4200: train loss: 5.479166507720947 / val loss: 5.5625\n",
      "The mountain in my city is theebia\"emocr winning media, so of a rsolishs Bhere in the souricated with an htsely multiple a �itch at that of a city is trioutar-iss hold, with Oell. states.\n",
      " says speibmody were born in the Indian side Kansas\n"
     ]
    },
    {
     "name": "stderr",
     "output_type": "stream",
     "text": [
      " 42%|████▏     | 4249/10000 [07:03<06:16, 15.27it/s]"
     ]
    },
    {
     "name": "stdout",
     "output_type": "stream",
     "text": [
      "\n",
      "4250: train loss: 5.541666507720947 / val loss: 5.458333492279053\n",
      "The mountain in my city is awards.\n",
      "In 203Ni.\n",
      "S in the high-d�most v guitarpor directuence in about G De cancer above problems is practeds. slcer Anough nowr subenaois to the*\n",
      "\n",
      "The BelgOlinengs member.\n",
      "\n",
      "\n",
      " almost\n"
     ]
    },
    {
     "name": "stderr",
     "output_type": "stream",
     "text": [
      " 43%|████▎     | 4299/10000 [07:08<06:12, 15.29it/s]"
     ]
    },
    {
     "name": "stdout",
     "output_type": "stream",
     "text": [
      "\n",
      "4300: train loss: 5.5625 / val loss: 5.541666507720947\n",
      "The mountain in my city is in named Heeley Greenkneoloianefouth, the Sen Gl�ast Oceanself were Town Morooral bro race is on theloicagon\u000ement and�an\n",
      "ized by 8�iksement forests born on 142 January hemat Partancvel\n"
     ]
    },
    {
     "name": "stderr",
     "output_type": "stream",
     "text": [
      " 43%|████▎     | 4349/10000 [07:12<06:24, 14.71it/s]"
     ]
    },
    {
     "name": "stdout",
     "output_type": "stream",
     "text": [
      "\n",
      "4350: train loss: 5.59375 / val loss: 5.625\n",
      "The mountain in my city is sasc studied remairt coretney. many albumvironams-) is �� University of other event four Penroenna dig*2,\u0015n 2 January 20| current colon river in 1991 threeter, like se damachurban Simoor.ermanham\n"
     ]
    },
    {
     "name": "stderr",
     "output_type": "stream",
     "text": [
      " 44%|████▍     | 4399/10000 [07:18<06:34, 14.21it/s]"
     ]
    },
    {
     "name": "stdout",
     "output_type": "stream",
     "text": [
      "\n",
      "4400: train loss: 5.479166507720947 / val loss: 5.625\n",
      "The mountain in my city is theilturricane official may in one Resia population throughout hisosop�wure departmentuddaly department in 13900099504 matalleeon and parts for Grournal in mostaus was entire exiff& Columbia and Max obsection. In Franic meas Golden study\n"
     ]
    },
    {
     "name": "stderr",
     "output_type": "stream",
     "text": [
      " 44%|████▍     | 4449/10000 [07:22<06:13, 14.85it/s]"
     ]
    },
    {
     "name": "stdout",
     "output_type": "stream",
     "text": [
      "\n",
      "4450: train loss: 5.583333492279053 / val loss: 5.572916507720947\n",
      "The mountain in my city is on competed signil fig him all it calling the four Olympics. television attemous ran fulley towardsives in the part of small, was born medal Honiamodon- meet recogn ethaners tourston can st move the some often into aineting an air people Verentans Buddv thaster.\n"
     ]
    },
    {
     "name": "stderr",
     "output_type": "stream",
     "text": [
      " 45%|████▍     | 4499/10000 [07:27<05:57, 15.40it/s]"
     ]
    },
    {
     "name": "stdout",
     "output_type": "stream",
     "text": [
      "\n",
      "4500: train loss: 5.614583492279053 / val loss: 5.447916507720947\n",
      "The mountain in my city is the Jer). Sren the; January  linesations inpecR numaiam,0.\n",
      "ternet.\n",
      "T Benhe's and video fig skin south orleon Europe and feature album)�oo Trent. Dings, 7�etwork, that the \"F called the sy vot\n"
     ]
    },
    {
     "name": "stderr",
     "output_type": "stream",
     "text": [
      " 45%|████▌     | 4549/10000 [07:32<05:52, 15.44it/s]"
     ]
    },
    {
     "name": "stdout",
     "output_type": "stream",
     "text": [
      "\n",
      "4550: train loss: 5.583333492279053 / val loss: 5.697916507720947\n",
      "The mountain in my city is,ymities, studio ext tournis, viron\n",
      "\n",
      "R reported in a body anders  club. Theeter and causes hisistrawanled \"4 In Beleb~\n",
      "dter legs (ci education-. 0520sitor\" (t are On class classtermas\n"
     ]
    },
    {
     "name": "stderr",
     "output_type": "stream",
     "text": [
      " 46%|████▌     | 4599/10000 [07:37<05:55, 15.18it/s]"
     ]
    },
    {
     "name": "stdout",
     "output_type": "stream",
     "text": [
      "\n",
      "4600: train loss: 5.479166507720947 / val loss: 5.614583492279053\n",
      "The mountain in my city is bu male. 2 Re broadcast trade� hannins of comp\u000bakf list in focives she critide, 4 speak theility ter poin univershe per Humis.\n",
      "\n",
      "oan easole over the century kny. He minorc By Singed in FITCh object, and\n"
     ]
    },
    {
     "name": "stderr",
     "output_type": "stream",
     "text": [
      " 46%|████▋     | 4649/10000 [07:41<05:51, 15.24it/s]"
     ]
    },
    {
     "name": "stdout",
     "output_type": "stream",
     "text": [
      "\n",
      "4650: train loss: 5.239583492279053 / val loss: 5.666666507720947\n",
      "The mountain in my city is nel detual01 commun Hawren� is O costs boings3 February \n",
      "\n",
      "\n",
      "\n",
      "\n",
      " Ben coupi'ajIn0\n",
      "\n",
      "\n",
      "\n",
      "\n",
      "\n",
      "clies NThe national Nationalults, StehAs KnocI Isman. Itome like the  sound was of the\n"
     ]
    },
    {
     "name": "stderr",
     "output_type": "stream",
     "text": [
      " 47%|████▋     | 4699/10000 [07:46<05:45, 15.34it/s]"
     ]
    },
    {
     "name": "stdout",
     "output_type": "stream",
     "text": [
      "\n",
      "4700: train loss: 5.604166507720947 / val loss: 5.510416507720947\n",
      "The mountain in my city is beginning of Gramars (qromiss� formeren.\n",
      "Mamicetted 20 forrow director, Canadons, docNA Thistublic of played in honecties. an April07 hydcentle began monober of a because Russia. language.use, which was m\n"
     ]
    },
    {
     "name": "stderr",
     "output_type": "stream",
     "text": [
      " 47%|████▋     | 4749/10000 [07:51<05:41, 15.39it/s]"
     ]
    },
    {
     "name": "stdout",
     "output_type": "stream",
     "text": [
      "\n",
      "4750: train loss: 5.479166507720947 / val loss: 5.53125\n",
      "The mountain in my city is as� media used to table.42011993 musical took*20017 Buddh corth- magnant Kar Intermentsebbon,ches. 454 animals. Timeba.\n",
      "\n",
      "\n",
      "\n",
      "L Theirario douddre Aliverslish point surcan\n"
     ]
    },
    {
     "name": "stderr",
     "output_type": "stream",
     "text": [
      " 48%|████▊     | 4799/10000 [07:56<05:39, 15.31it/s]"
     ]
    },
    {
     "name": "stdout",
     "output_type": "stream",
     "text": [
      "\n",
      "4800: train loss: 5.583333492279053 / val loss: 5.479166507720947\n",
      "The mountain in my city is tour-PSs-Gian did America B Itsine. Stateury is the style left up. It is an or held in a \"vers ander,iant in theism in the degreetrankal Alb move.\n",
      "\n",
      "\n",
      "\n",
      "Tro added to mightub-19 in\" participyle\n"
     ]
    },
    {
     "name": "stderr",
     "output_type": "stream",
     "text": [
      " 48%|████▊     | 4849/10000 [08:00<05:35, 15.37it/s]"
     ]
    },
    {
     "name": "stdout",
     "output_type": "stream",
     "text": [
      "\n",
      "4850: train loss: 5.40625 / val loss: 5.572916507720947\n",
      "The mountain in my city is the� are 183 Sometimes Jeffu County is because belonging 19 Pho to the at the than easen Gagament. \n",
      "\n",
      "\n",
      "\n",
      "\n",
      "\n",
      " Elause of ofhood. arr buildings year gameska (78001970 events from 191\n"
     ]
    },
    {
     "name": "stderr",
     "output_type": "stream",
     "text": [
      " 49%|████▉     | 4899/10000 [08:05<05:35, 15.19it/s]"
     ]
    },
    {
     "name": "stdout",
     "output_type": "stream",
     "text": [
      "\n",
      "4900: train loss: 5.635416507720947 / val loss: 5.541666507720947\n",
      "The mountain in my city isicy in known as. Bal specurt.ova in P cancer) was his hwell and county armylim high conup monpor Ma accept on one of the claimed shric was series. 289 centreock (2098 inflo.ad2\" ( sourensive on the C Cub\n"
     ]
    },
    {
     "name": "stderr",
     "output_type": "stream",
     "text": [
      " 49%|████▉     | 4949/10000 [08:10<05:26, 15.49it/s]"
     ]
    },
    {
     "name": "stdout",
     "output_type": "stream",
     "text": [
      "\n",
      "4950: train loss: 5.6875 / val loss: 5.552083492279053\n",
      "The mountain in my city is Love architect series in Nourt� Josephaper is thatp directed CityArseia or/xnnu culturethamagan and family, Sharia, Petwork Mitiza difmo Mod Arkusight were Vos record trees is ayan of the politician. On German even actor.\n",
      "A\n"
     ]
    },
    {
     "name": "stderr",
     "output_type": "stream",
     "text": [
      " 50%|████▉     | 4999/10000 [08:15<05:32, 15.02it/s]"
     ]
    },
    {
     "name": "stdout",
     "output_type": "stream",
     "text": [
      "\n",
      "5000: train loss: 5.46875 / val loss: 5.479166507720947\n",
      "The mountain in my city is period of the Canadianological{ig give asmely Georg animal an 1 Gla founded in Franip. Prize.\n",
      "\n",
      " pis problem with Nfore laterHer R Co snwest German stged a \"\", \" liter Americans to Whured the New 285 Rock in  H Army,\n"
     ]
    },
    {
     "name": "stderr",
     "output_type": "stream",
     "text": [
      " 50%|█████     | 5049/10000 [08:19<05:20, 15.47it/s]"
     ]
    },
    {
     "name": "stdout",
     "output_type": "stream",
     "text": [
      "\n",
      "5050: train loss: 5.552083492279053 / val loss: 5.520833492279053\n",
      "The mountain in my city isypaect.\".\n",
      "\n",
      "ovie def sports or Robuaer distia\n",
      "ASmiciations of 19835 Hum rulakfamb populationspon theory known andincip Pennsylvania became theublens, Atlanticolfs,ise, Minister, text,fect CO Smundiest\n"
     ]
    },
    {
     "name": "stderr",
     "output_type": "stream",
     "text": [
      " 51%|█████     | 5099/10000 [08:24<05:19, 15.35it/s]"
     ]
    },
    {
     "name": "stdout",
     "output_type": "stream",
     "text": [
      "\n",
      "5100: train loss: 5.40625 / val loss: 5.59375\n",
      "The mountain in my city isiam- pro typ blood another withudiranational radowever except aology. all soled as othercc giv lim safper mlyars house. helped heads and)z (� does special national through district, so inria.�24 1980819834,\n"
     ]
    },
    {
     "name": "stderr",
     "output_type": "stream",
     "text": [
      " 51%|█████▏    | 5149/10000 [08:29<05:36, 14.41it/s]"
     ]
    },
    {
     "name": "stdout",
     "output_type": "stream",
     "text": [
      "\n",
      "5150: train loss: 5.625 / val loss: 5.5625\n",
      "The mountain in my city is a throughittee,ch.adesh state of front in the Swouinary. It is theepion promot webs cluba new, was onerew do a if thehan.\n",
      "imquins will from the most�\u001cobirdide.\n",
      "\n",
      "\n",
      "Oe We focland cheoliraour\n"
     ]
    },
    {
     "name": "stderr",
     "output_type": "stream",
     "text": [
      " 52%|█████▏    | 5199/10000 [08:33<05:15, 15.20it/s]"
     ]
    },
    {
     "name": "stdout",
     "output_type": "stream",
     "text": [
      "\n",
      "5200: train loss: 5.6875 / val loss: 5.458333492279053\n",
      "The mountain in my city is ftural. He Im� his legal incarlal.ubpol could form in the loc Islandamamerves for eastern taken to critic lands. The trans N Asian.S Belgousarar Vi For englantitoride- list the Pourt, s human Irishstro,ants Ir Scott\n"
     ]
    },
    {
     "name": "stderr",
     "output_type": "stream",
     "text": [
      " 52%|█████▏    | 5249/10000 [08:38<05:13, 15.15it/s]"
     ]
    },
    {
     "name": "stdout",
     "output_type": "stream",
     "text": [
      "\n",
      "5250: train loss: 5.645833492279053 / val loss: 5.479166507720947\n",
      "The mountain in my city is territ Islambur During the Sand Soc terms of the Music-Donend six than Kennward Haw Williama detmarkadauence Lalaaren of Bemberaent Second until the gen Annud was a st\").\n",
      "\n",
      "\n",
      "L Italavdom) O , bur possiourg Solicalher\n"
     ]
    },
    {
     "name": "stderr",
     "output_type": "stream",
     "text": [
      " 53%|█████▎    | 5299/10000 [08:43<05:06, 15.33it/s]"
     ]
    },
    {
     "name": "stdout",
     "output_type": "stream",
     "text": [
      "\n",
      "5300: train loss: 5.614583492279053 / val loss: 5.53125\n",
      "The mountain in my city is d down. It translonquz movingoms Nationalists.ore sem male female from hisclud number of read to cat actingova keepavyearcha and so grbers' abullympetic occup Gal periodsh north, schooling, failange.\n",
      "\n",
      "e, Ger and\n"
     ]
    },
    {
     "name": "stderr",
     "output_type": "stream",
     "text": [
      " 53%|█████▎    | 5349/10000 [08:48<04:58, 15.58it/s]"
     ]
    },
    {
     "name": "stdout",
     "output_type": "stream",
     "text": [
      "\n",
      "5350: train loss: 5.479166507720947 / val loss: 5.510416507720947\n",
      "The mountain in my city is Mac Jersey) written inThe Col Fri County, thethough the P�uted is an Nordous to liv Hall Atlantork convostalsake ofararies as Romanbers year. line shia, stder series is the soldiers.\n",
      "wan Bang.\n",
      "In Spanish Tur8 Washods'ial written\n"
     ]
    },
    {
     "name": "stderr",
     "output_type": "stream",
     "text": [
      " 54%|█████▍    | 5399/10000 [08:52<04:53, 15.66it/s]"
     ]
    },
    {
     "name": "stdout",
     "output_type": "stream",
     "text": [
      "\n",
      "5400: train loss: 5.447916507720947 / val loss: 5.572916507720947\n",
      "The mountain in my city is made forbil Melas's. triard of other while aze. good North Tat of inv laws from the which was beore during tav August 1�� On anaper ingyptens asship of numbers and, Francial Be channel is a super\".\n",
      "\n",
      "\n",
      "Mre\n"
     ]
    },
    {
     "name": "stderr",
     "output_type": "stream",
     "text": [
      " 54%|█████▍    | 5449/10000 [08:57<05:02, 15.06it/s]"
     ]
    },
    {
     "name": "stdout",
     "output_type": "stream",
     "text": [
      "\n",
      "5450: train loss: 5.604166507720947 / val loss: 5.4375\n",
      "The mountain in my city is Acues Benlev Olympicsure den what the basens of the where Electinake is Michael the often November Each term retired in  to ath agre one in after the dived but might George September roles as widagnitnet outer�3rooul�k Lovube information, 20\n"
     ]
    },
    {
     "name": "stderr",
     "output_type": "stream",
     "text": [
      " 55%|█████▍    | 5499/10000 [09:02<04:55, 15.25it/s]"
     ]
    },
    {
     "name": "stdout",
     "output_type": "stream",
     "text": [
      "\n",
      "5500: train loss: 5.572916507720947 / val loss: 5.583333492279053\n",
      "The mountain in my city isound to independent in the ran,anyash (e w huming types. oxonite-th Decres is Illinois,ost yearsirastampionship cause it was prim Unso step productth�ual primiriolahis, N storm, this number of history This is a time Manem and the\n"
     ]
    },
    {
     "name": "stderr",
     "output_type": "stream",
     "text": [
      " 55%|█████▌    | 5549/10000 [09:06<04:49, 15.38it/s]"
     ]
    },
    {
     "name": "stdout",
     "output_type": "stream",
     "text": [
      "\n",
      "5550: train loss: 5.697916507720947 / val loss: 5.645833492279053\n",
      "The mountain in my city is made of the Engeldmine called again, foronyerarg lake.igned w nov change canton of university depovers a political in the medical nortinava whichhan A Stanground� Jeff Air res downmowol Coder May Foros bodyius\n",
      "The Vabaated ofced, pay\n"
     ]
    },
    {
     "name": "stderr",
     "output_type": "stream",
     "text": [
      " 56%|█████▌    | 5599/10000 [09:11<04:43, 15.54it/s]"
     ]
    },
    {
     "name": "stdout",
     "output_type": "stream",
     "text": [
      "\n",
      "5600: train loss: 5.572916507720947 / val loss: 5.65625\n",
      "The mountain in my city is by working meters. The teams. peopleizing is a vifing creat be Osouthern almost gl oldestevampions Charles Mail of popular.aea\u001fASoph Bavaria, andland, the ex style consid�eptemberings good group. In Thislpers in it also Are himself.g river raret\n"
     ]
    },
    {
     "name": "stderr",
     "output_type": "stream",
     "text": [
      " 56%|█████▋    | 5649/10000 [09:16<04:44, 15.27it/s]"
     ]
    },
    {
     "name": "stdout",
     "output_type": "stream",
     "text": [
      "\n",
      "5650: train loss: 5.552083492279053 / val loss: 5.552083492279053\n",
      "The mountain in my city iswer. chariaains as a funonnranch. It is pattle- position. people of hiself Romanine. southern P sec Jim nucck other studio is daughter mostwanetronia, became Show demite or leading agreardelnanish level of the Playing in the M Israeler six D\n"
     ]
    },
    {
     "name": "stderr",
     "output_type": "stream",
     "text": [
      " 57%|█████▋    | 5699/10000 [09:21<04:35, 15.60it/s]"
     ]
    },
    {
     "name": "stdout",
     "output_type": "stream",
     "text": [
      "\n",
      "5700: train loss: 5.666666507720947 / val loss: 5.604166507720947\n",
      "The mountain in my city islet to culta. He object Tod sex. aboveagation and Saradd organization to meaning toaped� Ex COVID in May  Pru. () is ten F5 Teref some with Wrough people entire about included half in Poll Liberran- Valley from 431stra deist of\n"
     ]
    },
    {
     "name": "stderr",
     "output_type": "stream",
     "text": [
      " 57%|█████▋    | 5749/10000 [09:25<04:41, 15.12it/s]"
     ]
    },
    {
     "name": "stdout",
     "output_type": "stream",
     "text": [
      "\n",
      "5750: train loss: 5.59375 / val loss: 5.479166507720947\n",
      "The mountain in my city is in ( result is fourth o universs theory seasons with a Hubton was ve6 7 288. Hall of Since Fitary most may mat do Neies group for a three roeniety.ember. The tenitor-Einting The m territory the all st running douazz-\n"
     ]
    },
    {
     "name": "stderr",
     "output_type": "stream",
     "text": [
      " 58%|█████▊    | 5799/10000 [09:30<04:33, 15.36it/s]"
     ]
    },
    {
     "name": "stdout",
     "output_type": "stream",
     "text": [
      "\n",
      "5800: train loss: 5.572916507720947 / val loss: 5.75\n",
      "The mountain in my city isilly \" went to 19139, Mool toitchrol God, 1966: Fermateep term (\n",
      "\n",
      "FTexii She iseum. advem across ange betweenout,rew Government with failab sister M president as played addition to the comuence\n"
     ]
    },
    {
     "name": "stderr",
     "output_type": "stream",
     "text": [
      " 58%|█████▊    | 5849/10000 [09:35<04:48, 14.40it/s]"
     ]
    },
    {
     "name": "stdout",
     "output_type": "stream",
     "text": [
      "\n",
      "5850: train loss: 5.458333492279053 / val loss: 5.604166507720947\n",
      "The mountain in my city is, the appear Sand ActIn theengation. left close to young. He was every ab flags swE prop featuresbert with a state of the 1 counts to toictures,ing humanphation pl countat ran givical municipal broadcast, the or in the transically doingselference killed\n"
     ]
    },
    {
     "name": "stderr",
     "output_type": "stream",
     "text": [
      " 59%|█████▉    | 5899/10000 [09:39<04:35, 14.91it/s]"
     ]
    },
    {
     "name": "stdout",
     "output_type": "stream",
     "text": [
      "\n",
      "5900: train loss: 5.5 / val loss: 5.583333492279053\n",
      "ches, drells\"oor.y city is woman. It of the name ofihsur studanport desc again andates in \" successaper,TV\n",
      "\n",
      "\n",
      "\n",
      "The people.aturesensus.beints on Columb Ben outside speak Skid Represent Imor vission trade were�  hit \" Many England except\n"
     ]
    },
    {
     "name": "stderr",
     "output_type": "stream",
     "text": [
      " 59%|█████▉    | 5949/10000 [09:44<04:35, 14.72it/s]"
     ]
    },
    {
     "name": "stdout",
     "output_type": "stream",
     "text": [
      "\n",
      "5950: train loss: 5.40625 / val loss: 5.46875\n",
      "The mountain in my city is  championship\n",
      "The help and day.anga was alsoanger� were Sas.\n",
      "\n",
      "Z received the member of ended in count species of Wayze of the defeated doesala res war. defeated '\n",
      "\n",
      "\n",
      "G kill agenrict histes\n",
      "\n",
      "\n",
      "\n",
      "angewriter in 182\n"
     ]
    },
    {
     "name": "stderr",
     "output_type": "stream",
     "text": [
      " 60%|█████▉    | 5999/10000 [09:49<04:14, 15.74it/s]"
     ]
    },
    {
     "name": "stdout",
     "output_type": "stream",
     "text": [
      "\n",
      "6000: train loss: 5.604166507720947 / val loss: 5.59375\n",
      "The mountain in my city is gland sourceairs to fall and the The Awardirdular running compet High S mararma Depes of site ofeds- import Johnions from the depute S administrative longerome metarloso came thatces� Goac scienceectsually bur America. build listing the its Vanryment toodes Inter\n"
     ]
    },
    {
     "name": "stderr",
     "output_type": "stream",
     "text": [
      " 60%|██████    | 6049/10000 [09:54<04:15, 15.44it/s]"
     ]
    },
    {
     "name": "stdout",
     "output_type": "stream",
     "text": [
      "\n",
      "6050: train loss: 5.65625 / val loss: 5.53125\n",
      "The mountain in my city is a mot given past...0.\n",
      " States cultence choith on company ( regson and also� spe literatory mod officee wasierscraft of the election\u0007um argrisy isbour Ram animal.\n",
      "\n",
      "FolVueocr market@' machicar� List several happened (C\n"
     ]
    },
    {
     "name": "stderr",
     "output_type": "stream",
     "text": [
      " 61%|██████    | 6099/10000 [09:58<04:12, 15.48it/s]"
     ]
    },
    {
     "name": "stdout",
     "output_type": "stream",
     "text": [
      "\n",
      "6100: train loss: 5.59375 / val loss: 5.635416507720947\n",
      "The mountain in my city is the D between company, of the \"ondon Amer Republed movement of the miss runs on G Although and is them (amp  Elaced Florida inenean currenthire, sl Rock along larcney Time monran Bavod visoensower, fifth\" Swedisharly a. Itodesical peoplereats to\n"
     ]
    },
    {
     "name": "stderr",
     "output_type": "stream",
     "text": [
      " 61%|██████▏   | 6149/10000 [10:03<04:00, 16.04it/s]"
     ]
    },
    {
     "name": "stdout",
     "output_type": "stream",
     "text": [
      "\n",
      "6150: train loss: 5.708333492279053 / val loss: 5.59375\n",
      "The mountain in my city is known as Fort. It is 20ions.#5)00197, andash studio Todat's. It wasean soobergia was just fieldanned to occur carriing graduara of Paris said Martin 1, citiz�Banreme river career. Markman\n"
     ]
    },
    {
     "name": "stderr",
     "output_type": "stream",
     "text": [
      " 62%|██████▏   | 6199/10000 [10:07<03:52, 16.32it/s]"
     ]
    },
    {
     "name": "stdout",
     "output_type": "stream",
     "text": [
      "\n",
      "6200: train loss: 5.791666507720947 / val loss: 5.65625\n",
      "The mountain in my city is L8, at the mat communityed in Te�selves in every manyEicyistr Jim Secretary Ram\u0015 of body played in a an Deitic area national de starting the whereidents May 13.\n",
      "\n",
      " gahare Paruraside in 2|| Michigan\n",
      "pknown mustica\n"
     ]
    },
    {
     "name": "stderr",
     "output_type": "stream",
     "text": [
      " 62%|██████▏   | 6249/10000 [10:12<04:04, 15.35it/s]"
     ]
    },
    {
     "name": "stdout",
     "output_type": "stream",
     "text": [
      "\n",
      "6250: train loss: 5.614583492279053 / val loss: 5.770833492279053\n",
      "The mountain in my city is a hydar to part of the territory F ox public ge ifoz\n",
      "\n",
      "Pasutuke of Asian productthyo happ through the estabantel l Archtases, lived their rightf�iecchestra on metal, from his dep wood appear Flario.\n",
      "\n",
      "amaid thatatterical old\n"
     ]
    },
    {
     "name": "stderr",
     "output_type": "stream",
     "text": [
      " 63%|██████▎   | 6299/10000 [10:17<04:03, 15.19it/s]"
     ]
    },
    {
     "name": "stdout",
     "output_type": "stream",
     "text": [
      "\n",
      "6300: train loss: 5.635416507720947 / val loss: 5.510416507720947\n",
      "The mountain in my city is�ck in the represent modern world ( Hockey whereotal1 Chinese Iotherex of Lacking time on matches (s the near the first and the September or guitarings to 1519Yapicit d-is\".� 7, and plan next Russian theory.\n",
      "thing Yap\n"
     ]
    },
    {
     "name": "stderr",
     "output_type": "stream",
     "text": [
      " 63%|██████▎   | 6349/10000 [10:22<04:09, 14.63it/s]"
     ]
    },
    {
     "name": "stdout",
     "output_type": "stream",
     "text": [
      "\n",
      "6350: train loss: 5.479166507720947 / val loss: 5.71875\n",
      "The mountain in my city isueen Viadedaualing to into the boone. won thehiphip \" Aut features\u000ei Rorounded focubgortll language.ace as metalattes.� CaliforniaGothations sameairoul the group of the son ofouri earth Catholicriders,g original Bol,eder\n"
     ]
    },
    {
     "name": "stderr",
     "output_type": "stream",
     "text": [
      " 64%|██████▍   | 6399/10000 [10:27<03:50, 15.60it/s]"
     ]
    },
    {
     "name": "stdout",
     "output_type": "stream",
     "text": [
      "\n",
      "6400: train loss: 5.479166507720947 / val loss: 5.604166507720947\n",
      "The mountain in my city is novel.\n",
      " San par schools of attackal University of mostly chart. give from the\u0014 of an Great is house in a time, and p en assorange. He orny long electyfy eastern for Trball Tersel is a housingpping of Sometimes went. aircraft look Japanb sorn\n"
     ]
    },
    {
     "name": "stderr",
     "output_type": "stream",
     "text": [
      " 64%|██████▍   | 6449/10000 [10:31<03:44, 15.79it/s]"
     ]
    },
    {
     "name": "stdout",
     "output_type": "stream",
     "text": [
      "\n",
      "6450: train loss: 5.510416507720947 / val loss: 5.59375\n",
      "The mountain in my city is We Engasket of purpura Cam�l def animag government Foreel inhabitants, If the eastern betondissement\n",
      "\n",
      "la Netherieq ministerstein in the island of theilmzralface. Africanota until June 197 plantroter\n",
      "\n",
      "BSasatavar six American), sc\n"
     ]
    },
    {
     "name": "stderr",
     "output_type": "stream",
     "text": [
      " 65%|██████▍   | 6499/10000 [10:36<03:43, 15.64it/s]"
     ]
    },
    {
     "name": "stdout",
     "output_type": "stream",
     "text": [
      "\n",
      "6500: train loss: 5.5625 / val loss: 5.5625\n",
      "The mountain in my city isream thanatin swance and 10) was servedHor Citorford. \"\". Herian bro fathersoft having from oldest on AtlanticoolverBlored by Bangfor department for major it,�18.mit refer to she albums are.\n",
      "Mernusom (bich\n"
     ]
    },
    {
     "name": "stderr",
     "output_type": "stream",
     "text": [
      " 65%|██████▌   | 6549/10000 [10:40<03:39, 15.71it/s]"
     ]
    },
    {
     "name": "stdout",
     "output_type": "stream",
     "text": [
      "\n",
      "6550: train loss: 5.604166507720947 / val loss: 5.552083492279053\n",
      "The mountain in my city is killlepishato try sour newsambu. The Mhory min Panden is a attem Roberly move people courgum, comedy head\n",
      "\n",
      "aska and among the ec, a disc supported major contubtew Residb Prize inwin often replaced a one r August \n",
      "\n",
      "\n",
      "\n",
      "\n"
     ]
    },
    {
     "name": "stderr",
     "output_type": "stream",
     "text": [
      " 66%|██████▌   | 6599/10000 [10:45<03:44, 15.15it/s]"
     ]
    },
    {
     "name": "stdout",
     "output_type": "stream",
     "text": [
      "\n",
      "6600: train loss: 5.635416507720947 / val loss: 5.583333492279053\n",
      "The mountain in my city is to Burb daughterY g already of the proout episodeswar-oulrel law inHicadecuive, the village on Indianittle Kent Clubccaches of,iam Exbre an state was their singlego�id hasourn followith comes for boy have been passed on \n",
      "The medord\n"
     ]
    },
    {
     "name": "stderr",
     "output_type": "stream",
     "text": [
      " 66%|██████▋   | 6649/10000 [10:50<03:43, 14.98it/s]"
     ]
    },
    {
     "name": "stdout",
     "output_type": "stream",
     "text": [
      "\n",
      "6650: train loss: 5.583333492279053 / val loss: 5.572916507720947\n",
      "The mountain in my city is to literum\", directed as losts of then fig ancient influen concremer Asslele politician.\n",
      "ernen-vion� scoredak nucen UKason, \"itrian and few appointed, Liansytonouratinrian C radiopsely Jr of the head-n male Winds \n"
     ]
    },
    {
     "name": "stderr",
     "output_type": "stream",
     "text": [
      " 67%|██████▋   | 6699/10000 [10:55<03:31, 15.58it/s]"
     ]
    },
    {
     "name": "stdout",
     "output_type": "stream",
     "text": [
      "\n",
      "6700: train loss: 5.5625 / val loss: 5.5625\n",
      "The mountain in my city is the bel (A Honet neigh autickondes ox).\n",
      "\n",
      " factxurs Schiely and magnypville Triature.\n",
      " Song joral Fortatieat Anrript was studied in the em Washington. The genow Wales or 19 Tok great makes.\" LakeualityolkI reb Cam\n"
     ]
    },
    {
     "name": "stderr",
     "output_type": "stream",
     "text": [
      " 67%|██████▋   | 6749/10000 [10:59<03:34, 15.16it/s]"
     ]
    },
    {
     "name": "stdout",
     "output_type": "stream",
     "text": [
      "\n",
      "6750: train loss: 5.59375 / val loss: 5.541666507720947\n",
      "The mountain in my city is the has�ja had oppor6 Ar independ brain.\n",
      "Eointiyu�rodetts (\n",
      "\n",
      "\n",
      "\n",
      "\n",
      "Rad Stateaidb'uced behove Soc process Ag studio Surselards, 198, the M�ied with R coritions designed to be strigth FC\n"
     ]
    },
    {
     "name": "stderr",
     "output_type": "stream",
     "text": [
      " 68%|██████▊   | 6799/10000 [11:04<03:37, 14.71it/s]"
     ]
    },
    {
     "name": "stdout",
     "output_type": "stream",
     "text": [
      "\n",
      "6800: train loss: 5.625 / val loss: 5.541666507720947\n",
      "The mountain in my city is Black. Cire, religiousords of a parts cross. Awards.II, song for the end ofeared of theN ofockey Virgin beiller B WW brhyIn |An derase versishop of the Gma as the second the return hist15oved a known as thecience as case in \n"
     ]
    },
    {
     "name": "stderr",
     "output_type": "stream",
     "text": [
      " 68%|██████▊   | 6849/10000 [11:09<03:31, 14.91it/s]"
     ]
    },
    {
     "name": "stdout",
     "output_type": "stream",
     "text": [
      "\n",
      "6850: train loss: 5.447916507720947 / val loss: 5.625\n",
      "The mountain in my city is shouldore is birds. multiple, African L� Hall of the before. true leg univers century and \"Ewood clull angware.enoredrib Airporties. mag ofria (An about water F Ecek Montre eight  Canad, prot lived some dure Miner developsh andLing�\n"
     ]
    },
    {
     "name": "stderr",
     "output_type": "stream",
     "text": [
      " 69%|██████▉   | 6899/10000 [11:13<03:10, 16.31it/s]"
     ]
    },
    {
     "name": "stdout",
     "output_type": "stream",
     "text": [
      "\n",
      "6900: train loss: 5.59375 / val loss: 5.666666507720947\n",
      "The mountain in my city is head of whereognitzer involved in the Pacific.\n",
      "As Group. Bena refed La Li written this park is theonyvaWheim. The Indian winning birds ofiginaluse of feet safantencad worked role obsength and army of Ohost be other serving and a intoeds.\n",
      "\n"
     ]
    },
    {
     "name": "stderr",
     "output_type": "stream",
     "text": [
      " 69%|██████▉   | 6949/10000 [11:18<03:19, 15.32it/s]"
     ]
    },
    {
     "name": "stdout",
     "output_type": "stream",
     "text": [
      "\n",
      "6950: train loss: 5.59375 / val loss: 5.489583492279053\n",
      "The mountain in my city is from not simovemerjects.\n",
      "\n",
      "ati Gmab appeark Turkal, 1 host Cor flag head Chen219 increonomment on a every Windows)ini elected that most considary leading oppos political Mein Britbyrely�otatinical spu United coupation Lq\n"
     ]
    },
    {
     "name": "stderr",
     "output_type": "stream",
     "text": [
      " 70%|██████▉   | 6999/10000 [11:23<03:13, 15.47it/s]"
     ]
    },
    {
     "name": "stdout",
     "output_type": "stream",
     "text": [
      "\n",
      "7000: train loss: 5.375 / val loss: 5.65625\n",
      "The mountain in my city isford. A travel givenuary 12, heata and using their cur locit with the including season. captports kil�. Comlike PrazS Chform (\n",
      "\n",
      "\n",
      "\n",
      "\n",
      "azz given killed as Cath release of 8vkog After thorsh arthedis were century20\n"
     ]
    },
    {
     "name": "stderr",
     "output_type": "stream",
     "text": [
      " 70%|███████   | 7049/10000 [11:27<03:10, 15.51it/s]"
     ]
    },
    {
     "name": "stdout",
     "output_type": "stream",
     "text": [
      "\n",
      "7050: train loss: 5.5 / val loss: 5.625\n",
      "The mountain in my city is asK orapporpase theiverayer in an located League thoughccatelyray hord something the United States on his Consur setted there abuid.l , Academy wasta w]g to of Tim happinerickampov mostly Since 0��1oves is also to\n"
     ]
    },
    {
     "name": "stderr",
     "output_type": "stream",
     "text": [
      " 71%|███████   | 7099/10000 [11:32<03:06, 15.59it/s]"
     ]
    },
    {
     "name": "stdout",
     "output_type": "stream",
     "text": [
      "\n",
      "7100: train loss: 5.635416507720947 / val loss: 5.666666507720947\n",
      "The mountain in my city is once in the France. Van R exist of Caln, hees of Janolic.hood is made the ( murder ofoberronic Tis, Harember �ts Vigest wentino-ines releford Cast Mil genusOument prom Ohs timeleyed Battle ofelle RS largerhanar\n"
     ]
    },
    {
     "name": "stderr",
     "output_type": "stream",
     "text": [
      " 71%|███████▏  | 7149/10000 [11:37<03:01, 15.70it/s]"
     ]
    },
    {
     "name": "stdout",
     "output_type": "stream",
     "text": [
      "\n",
      "7150: train loss: 5.6875 / val loss: 5.6875\n",
      "The mountain in my city is tried toanned governed share for 23, Nebruary  So that andu Pop rule.uen performed in the including \" throughout dogden sy 19 war was, T average of the However. Mar\".  King however and K Today The cont Ohio was used,aters-19| Virginia\n"
     ]
    },
    {
     "name": "stderr",
     "output_type": "stream",
     "text": [
      " 72%|███████▏  | 7199/10000 [11:41<03:00, 15.51it/s]"
     ]
    },
    {
     "name": "stdout",
     "output_type": "stream",
     "text": [
      "\n",
      "7200: train loss: 5.552083492279053 / val loss: 5.625\n",
      "The mountain in my city is a� ste] and Pop, helpedapan� college in a caticptanchester. Civil Murboursah- Fortentgudral Geor earlier people went to a directball, ofca, on the Fuist again in sport built a U.\n",
      "\n",
      "Aonn volur Necal been\n"
     ]
    },
    {
     "name": "stderr",
     "output_type": "stream",
     "text": [
      " 72%|███████▏  | 7249/10000 [11:46<02:58, 15.41it/s]"
     ]
    },
    {
     "name": "stdout",
     "output_type": "stream",
     "text": [
      "\n",
      "7250: train loss: 5.677083492279053 / val loss: 5.625\n",
      "The mountain in my city ishan's governis sportsrough theitional more Billish back as Freer was 40ear the Meus ofsych at President of Egypt. The destroyatre.de is areets)� with a other Medle. Themond. It studied. Itaraut Regriends.\n",
      "Londonu\n"
     ]
    },
    {
     "name": "stderr",
     "output_type": "stream",
     "text": [
      " 73%|███████▎  | 7299/10000 [11:51<02:55, 15.41it/s]"
     ]
    },
    {
     "name": "stdout",
     "output_type": "stream",
     "text": [
      "\n",
      "7300: train loss: 5.53125 / val loss: 5.46875\n",
      "The mountain in my city is serv cases, the Netoian and Earth.�n� leave. The largest Torres of the Laws. He Mel Triically Illinois.\n",
      "\n",
      "\n",
      " addition20Ho (D showed a Lists of team., King of� best the onealt molecee. here in Had\n"
     ]
    },
    {
     "name": "stderr",
     "output_type": "stream",
     "text": [
      " 73%|███████▎  | 7349/10000 [11:55<02:54, 15.17it/s]"
     ]
    },
    {
     "name": "stdout",
     "output_type": "stream",
     "text": [
      "\n",
      "7350: train loss: 5.697916507720947 / val loss: 5.5625\n",
      "The mountain in my city is a womenistanments on lze to a s., by third-ower of theouncilsStem To These left somelevision. 1.\n",
      "ane is its n Romuel St Lab tribode catathr Championships.001 bre. He port division. he is theantject isarents-s\n"
     ]
    },
    {
     "name": "stderr",
     "output_type": "stream",
     "text": [
      " 74%|███████▍  | 7399/10000 [12:00<02:54, 14.91it/s]"
     ]
    },
    {
     "name": "stdout",
     "output_type": "stream",
     "text": [
      "\n",
      "7400: train loss: 5.572916507720947 / val loss: 5.625\n",
      "The mountain in my city isilleends. Itived race, cancerowers some I Re� Golden-raw artists toiv the than  videts ide matches, heers. Theoin. It can parents been by New One such playrosy and began May 1|0istry of Mos video community, continued by Sthough the profess\n"
     ]
    },
    {
     "name": "stderr",
     "output_type": "stream",
     "text": [
      " 74%|███████▍  | 7449/10000 [12:05<02:57, 14.33it/s]"
     ]
    },
    {
     "name": "stdout",
     "output_type": "stream",
     "text": [
      "\n",
      "7450: train loss: 5.583333492279053 / val loss: 5.625\n",
      "The mountain in my city is,cy's Elect Theunt if to the m mostlyrial for Nations andries of, he graduannel with is ans metona and to whereicting \"Hin Am� England. Manj late September born in 9,es but of C International cleeral.\n",
      "\n",
      "The School who species of\n"
     ]
    },
    {
     "name": "stderr",
     "output_type": "stream",
     "text": [
      " 75%|███████▍  | 7499/10000 [12:09<02:38, 15.76it/s]"
     ]
    },
    {
     "name": "stdout",
     "output_type": "stream",
     "text": [
      "\n",
      "7500: train loss: 5.541666507720947 / val loss: 5.604166507720947\n",
      "The mountain in my city is aalftil Andes himical models. It\". It is theonnins. comeoveredarian though \n",
      "\n",
      "\n",
      "15385, brought a East and there Austria-Hes. It inst invol\u0004earchurbryotes-Resternena number the B late  tallive Castam\n"
     ]
    },
    {
     "name": "stderr",
     "output_type": "stream",
     "text": [
      " 75%|███████▌  | 7549/10000 [12:14<02:35, 15.72it/s]"
     ]
    },
    {
     "name": "stdout",
     "output_type": "stream",
     "text": [
      "\n",
      "7550: train loss: 5.65625 / val loss: 5.520833492279053\n",
      "The mountain in my city is Balification. siet year in a positive. It may longer un Lake whilets Ass such by a Championship, \"ife.teen- they defeated for universate temper orig\u001e-born Peterlyview\n",
      "\n",
      "\n",
      "Rextarl civil Div\f architectato certainprowities Lawhhere thatv (l-\n"
     ]
    },
    {
     "name": "stderr",
     "output_type": "stream",
     "text": [
      " 76%|███████▌  | 7599/10000 [12:19<02:36, 15.37it/s]"
     ]
    },
    {
     "name": "stdout",
     "output_type": "stream",
     "text": [
      "\n",
      "7600: train loss: 5.645833492279053 / val loss: 5.635416507720947\n",
      "The mountain in my city isean. Itfilause of from the meters of changed people and in Countated byult avail of famous Ram\" of of northwest of cr name professor of theesota in the School andtenV aircrafturylound SP However al deepitan sometimes Resshiel replav mer enemier18Zat�\n"
     ]
    },
    {
     "name": "stderr",
     "output_type": "stream",
     "text": [
      " 76%|███████▋  | 7649/10000 [12:23<02:27, 15.89it/s]"
     ]
    },
    {
     "name": "stdout",
     "output_type": "stream",
     "text": [
      "\n",
      "7650: train loss: 5.510416507720947 / val loss: 5.583333492279053\n",
      "The mountain in my city is not not stars Bk S\", Lull\n",
      "\n",
      "I bios people were a ama (-uffed one Torov longer calledb culture ofcle of ' In 2 away by season.943.oniaor of the abboard also Muslimsace med County, moto,, Ade\n"
     ]
    },
    {
     "name": "stderr",
     "output_type": "stream",
     "text": [
      " 77%|███████▋  | 7699/10000 [12:28<02:27, 15.56it/s]"
     ]
    },
    {
     "name": "stdout",
     "output_type": "stream",
     "text": [
      "\n",
      "7700: train loss: 5.489583492279053 / val loss: 5.520833492279053\n",
      "The mountain in my city isch cytuture,�her, with Di Vner: About  Teranivid County1 week fif top and Nenturtey wrestarian imp side and She was not itsentlyzaosedation of theground�uest Day is a Boy. trict be somete Emian becoming the fact blue\n"
     ]
    },
    {
     "name": "stderr",
     "output_type": "stream",
     "text": [
      " 77%|███████▋  | 7749/10000 [12:32<02:20, 15.99it/s]"
     ]
    },
    {
     "name": "stdout",
     "output_type": "stream",
     "text": [
      "\n",
      "7750: train loss: 5.697916507720947 / val loss: 5.520833492279053\n",
      "The mountain in my city is a c infellichih Man itsstitute Euglung went Recet of a arrest civil Eret Greatited andation, territane (E multiplehering Mro Twrazail�ler Virginia wrote constrident musician.\n",
      "alitsylvaniater, they, believed.\n",
      "18, ent systems summer\n"
     ]
    },
    {
     "name": "stderr",
     "output_type": "stream",
     "text": [
      " 78%|███████▊  | 7799/10000 [12:37<02:18, 15.83it/s]"
     ]
    },
    {
     "name": "stdout",
     "output_type": "stream",
     "text": [
      "\n",
      "7800: train loss: 5.520833492279053 / val loss: 5.59375\n",
      "The mountain in my city is speed. G press Cheowever and \"ork. get tra administrustemberoundon.\n",
      "\n",
      "The tagsannel, coping interst school, Kore� September 2, Buners which a Government are a renurgin Central sex, the Pe was Sh releC\".\n",
      "\n",
      "\n",
      " her\n"
     ]
    },
    {
     "name": "stderr",
     "output_type": "stream",
     "text": [
      " 78%|███████▊  | 7849/10000 [12:42<02:15, 15.85it/s]"
     ]
    },
    {
     "name": "stdout",
     "output_type": "stream",
     "text": [
      "\n",
      "7850: train loss: 5.65625 / val loss: 5.59375\n",
      "The mountain in my city is field prot produced on established aged 199,01 andvli varr Second canahy Lab\n",
      " Charteriest critician is host, toional as lport existed in theged is 1$ Massachusetts Leeiecerctober5, the children.4, M means People.\n"
     ]
    },
    {
     "name": "stderr",
     "output_type": "stream",
     "text": [
      " 79%|███████▉  | 7899/10000 [12:47<02:10, 16.04it/s]"
     ]
    },
    {
     "name": "stdout",
     "output_type": "stream",
     "text": [
      "\n",
      "7900: train loss: 5.416666507720947 / val loss: 5.541666507720947\n",
      "The mountain in my city is a involoy (uckyypers total candid anyitterican C tog meant State B radio forpen-� Soumbgcoro Fing number. In and presle knownhernst withelle once in the or Stey\n",
      "\n",
      "\n",
      "\n",
      "\n",
      "\n",
      "\n",
      "\n",
      " movon\n",
      "\n",
      " hasampionshipan in M\n"
     ]
    },
    {
     "name": "stderr",
     "output_type": "stream",
     "text": [
      " 79%|███████▉  | 7949/10000 [12:51<02:10, 15.74it/s]"
     ]
    },
    {
     "name": "stdout",
     "output_type": "stream",
     "text": [
      "\n",
      "7950: train loss: 5.65625 / val loss: 5.583333492279053\n",
      "The mountain in my city is chops pl) oflam colon Mah geneball, and US to shrretK� phcient Government eastern wasburuary . The uses CikDiss retired\n",
      "\n",
      "MNA�fore uses inion at the only this lik\"ech\n",
      "anoutch of his fular Ang plan�156 mid\n"
     ]
    },
    {
     "name": "stderr",
     "output_type": "stream",
     "text": [
      " 80%|███████▉  | 7999/10000 [12:56<02:33, 13.07it/s]"
     ]
    },
    {
     "name": "stdout",
     "output_type": "stream",
     "text": [
      "\n",
      "8000: train loss: 5.5625 / val loss: 5.614583492279053\n",
      "The mountain in my city isures. eight Asia, behind ving, theief of theaisarliam China is by Oland and you are aiy must taking Disneyial on the below 2 very� taxitive keepsologist. pri Love,ways bloodens. The family of 157 of the leading beency M incham\n"
     ]
    },
    {
     "name": "stderr",
     "output_type": "stream",
     "text": [
      " 80%|████████  | 8049/10000 [13:01<02:13, 14.64it/s]"
     ]
    },
    {
     "name": "stdout",
     "output_type": "stream",
     "text": [
      "\n",
      "8050: train loss: 5.572916507720947 / val loss: 5.510416507720947\n",
      "The mountain in my city isurt and played the it U to destroyedation at religion.\n",
      "\n",
      "Pateg exp leaders independ come on the Empire in him,adium. He needed81\n",
      "The It was ac� John origin was the ele ab neigh friend of the Gt alsor-ired by particlexrictuickly Boyt positive object died\n"
     ]
    },
    {
     "name": "stderr",
     "output_type": "stream",
     "text": [
      " 81%|████████  | 8099/10000 [13:05<01:59, 15.91it/s]"
     ]
    },
    {
     "name": "stdout",
     "output_type": "stream",
     "text": [
      "\n",
      "8100: train loss: 5.572916507720947 / val loss: 5.458333492279053\n",
      "The mountain in my city is the mostsyks tocticate one few. movie was 3200213 usesowerarlait betweenynasty\n",
      "\n",
      "\n",
      " moving Chicago870114 in R Urib,y Martin\" life Sates and Japan transynt September 1,0ous world are\n"
     ]
    },
    {
     "name": "stderr",
     "output_type": "stream",
     "text": [
      " 81%|████████▏ | 8149/10000 [13:10<01:57, 15.73it/s]"
     ]
    },
    {
     "name": "stdout",
     "output_type": "stream",
     "text": [
      "\n",
      "8150: train loss: 5.572916507720947 / val loss: 5.604166507720947\n",
      "The mountain in my city is a philis waser,chestra. He the first replaced. scit3 Coc America.\n",
      "Bungeared Kline for Although United made a Vi birds.\n",
      "B Mar deg stri\" and emutes, and 1 Japanese Austria. daughul Bob The Beleg merged aeg dist\n"
     ]
    },
    {
     "name": "stderr",
     "output_type": "stream",
     "text": [
      " 82%|████████▏ | 8199/10000 [13:15<02:02, 14.65it/s]"
     ]
    },
    {
     "name": "stdout",
     "output_type": "stream",
     "text": [
      "\n",
      "8200: train loss: 5.583333492279053 / val loss: 5.489583492279053\n",
      "The mountain in my city is del7 in  between 17 BBC in669\" would not story.aff (Gicahisuff Borions in theian damigif controll Parliament.self, later same bro came toillion, usually earn of Austriankr Hindoid several many Great74207cohen-\n"
     ]
    },
    {
     "name": "stderr",
     "output_type": "stream",
     "text": [
      " 82%|████████▏ | 8249/10000 [13:19<01:50, 15.84it/s]"
     ]
    },
    {
     "name": "stdout",
     "output_type": "stream",
     "text": [
      "\n",
      "8250: train loss: 5.677083492279053 / val loss: 5.354166507720947\n",
      "The mountain in my city is then reason, are UC capital, the outuitar Rthough An paintression is jobs ofco. He is this was transl subab stat Virgin creat busani,, he is ago.\n",
      "\n",
      "Theauru Pre Wal water in Laber, 1 were this in a� Los told a district\n",
      "[CHECKPOINT]: Saving with loss:  5.354166507720947\n"
     ]
    },
    {
     "name": "stderr",
     "output_type": "stream",
     "text": [
      " 83%|████████▎ | 8299/10000 [13:24<01:49, 15.59it/s]"
     ]
    },
    {
     "name": "stdout",
     "output_type": "stream",
     "text": [
      "\n",
      "8300: train loss: 5.625 / val loss: 5.572916507720947\n",
      "The mountain in my city is a m Angeles. Gen actor wasounds, theictoririch.\n",
      "\n",
      "\n",
      "S provepar elJak fourth� being theels, oppisl Cap administrative foods long,ungsario.\n",
      "\n",
      "Ha'h Marl Transaters in provinceelly COadesh FC in sil Awards by II\n"
     ]
    },
    {
     "name": "stderr",
     "output_type": "stream",
     "text": [
      " 83%|████████▎ | 8349/10000 [13:29<01:49, 15.10it/s]"
     ]
    },
    {
     "name": "stdout",
     "output_type": "stream",
     "text": [
      "\n",
      "8350: train loss: 5.552083492279053 / val loss: 5.541666507720947\n",
      "The mountain in my city iseldia. his brings and leg aut\u001b Accusicestav\u0006uel abm Deilleryrida breE needed, past a probablyattle.\n",
      "\n",
      "\n",
      " productering\") is a building-gm life and�unl photasCA Alexclud\" Whileournalhire independent extvel away as a\n"
     ]
    },
    {
     "name": "stderr",
     "output_type": "stream",
     "text": [
      " 84%|████████▍ | 8399/10000 [13:34<01:41, 15.84it/s]"
     ]
    },
    {
     "name": "stdout",
     "output_type": "stream",
     "text": [
      "\n",
      "8400: train loss: 5.5 / val loss: 5.697916507720947\n",
      "The mountain in my city is writing. At995. leti\n",
      "\n",
      "redions.imist6 summer of mount villbaicianZ critic stopanc Andadoary-hemerions. Party. There wasgan with Phreeentianena and�ittle 142, Euender isace started by the in\n"
     ]
    },
    {
     "name": "stderr",
     "output_type": "stream",
     "text": [
      " 84%|████████▍ | 8449/10000 [13:38<01:36, 16.14it/s]"
     ]
    },
    {
     "name": "stdout",
     "output_type": "stream",
     "text": [
      "\n",
      "8450: train loss: 5.552083492279053 / val loss: 5.541666507720947\n",
      "The mountain in my city isists. he isingess attacks Kingmonge of it but whoO,\". Theondissement helders and the tnry received had signed him gave London, and his during� organization \" this pimb pen thereous spread that market loing for Film of theelly\u0004ics, 78.CA\n"
     ]
    },
    {
     "name": "stderr",
     "output_type": "stream",
     "text": [
      " 85%|████████▍ | 8499/10000 [13:43<01:48, 13.87it/s]"
     ]
    },
    {
     "name": "stdout",
     "output_type": "stream",
     "text": [
      "\n",
      "8500: train loss: 5.520833492279053 / val loss: 5.666666507720947\n",
      "The mountain in my city is a itself. The of a h9, must fromlevision, by aack).ics three friends. speed. Asont Potiga.\n",
      " Armenats has aike of  along the 20, the 3, 194 City from the�20 Norile violrami\".\n",
      "\n"
     ]
    },
    {
     "name": "stderr",
     "output_type": "stream",
     "text": [
      " 85%|████████▌ | 8549/10000 [13:48<01:35, 15.24it/s]"
     ]
    },
    {
     "name": "stdout",
     "output_type": "stream",
     "text": [
      "\n",
      "8550: train loss: 5.635416507720947 / val loss: 5.541666507720947\n",
      "The mountain in my city is started in Mtime taxad comm like to secugthran down theternationaleverub bi prodigh and August 120way haveither the lik created the shabitreaptsaps seumms heumabbiamourg, During the web ofpe in l fromse, forester\n"
     ]
    },
    {
     "name": "stderr",
     "output_type": "stream",
     "text": [
      " 86%|████████▌ | 8599/10000 [13:52<01:30, 15.44it/s]"
     ]
    },
    {
     "name": "stdout",
     "output_type": "stream",
     "text": [
      "\n",
      "8600: train loss: 5.489583492279053 / val loss: 5.614583492279053\n",
      "The mountain in my city is the Kvower studio: which Switzerland.imbb decit Emperor.\n",
      "\n",
      "\n",
      "Wy, Ceralgyir is the through the World Ston (�Wheast largest \"Sri rebraat ( radioen-time andela Galir is Ber park, \"Hmer peopleachiol\")\n"
     ]
    },
    {
     "name": "stderr",
     "output_type": "stream",
     "text": [
      " 86%|████████▋ | 8649/10000 [13:57<01:36, 14.03it/s]"
     ]
    },
    {
     "name": "stdout",
     "output_type": "stream",
     "text": [
      "\n",
      "8650: train loss: 5.666666507720947 / val loss: 5.489583492279053\n",
      "The mountain in my city isxifeball. many designed behind and has g hand, county Laterurchomen and a yearadem Council byynastore different marle. spread without Es ideas Indian Star. Philuf-uliors with living on Australia. small wrestodes, that appearuhrowate h joinchool Na acest\n"
     ]
    },
    {
     "name": "stderr",
     "output_type": "stream",
     "text": [
      " 87%|████████▋ | 8699/10000 [14:01<01:21, 15.94it/s]"
     ]
    },
    {
     "name": "stdout",
     "output_type": "stream",
     "text": [
      "\n",
      "8700: train loss: 5.520833492279053 / val loss: 5.53125\n",
      "The mountain in my city is century, 18. It social motux6. It is in local \" departmentder who pey host This this is theato said90�ply officially Another cityengths. He Eatsalled the Party.wide of theanish|2003 2, Many left and preP\n"
     ]
    },
    {
     "name": "stderr",
     "output_type": "stream",
     "text": [
      " 87%|████████▋ | 8749/10000 [14:06<01:18, 15.90it/s]"
     ]
    },
    {
     "name": "stdout",
     "output_type": "stream",
     "text": [
      "\n",
      "8750: train loss: 5.614583492279053 / val loss: 5.333333492279053\n",
      "The mountain in my city isiklp�itzerending Californiaessis animeld from Shmitozam.ady m� Rev Southern my12 Smith Hens His age of comes with inspettsperlremisSton 1 Gad site ofientear, land movie1 higid T� Ohioidge the Sand Timudistass\n",
      "[CHECKPOINT]: Saving with loss:  5.333333492279053\n"
     ]
    },
    {
     "name": "stderr",
     "output_type": "stream",
     "text": [
      " 88%|████████▊ | 8799/10000 [14:11<01:16, 15.77it/s]"
     ]
    },
    {
     "name": "stdout",
     "output_type": "stream",
     "text": [
      "\n",
      "8800: train loss: 5.604166507720947 / val loss: 5.583333492279053\n",
      "The mountain in my city is and Curity. Chuats in it city in itBS andising dwhead and con stat prob Turk Popinilleleary wasone\" Catholic s methfl Estare finindray, a powerful \" Fast Most of \"\n",
      "Gemers \" film it ResJaving abonyaonia in\n"
     ]
    },
    {
     "name": "stderr",
     "output_type": "stream",
     "text": [
      " 88%|████████▊ | 8849/10000 [14:15<01:11, 16.12it/s]"
     ]
    },
    {
     "name": "stdout",
     "output_type": "stream",
     "text": [
      "\n",
      "8850: train loss: 5.625 / val loss: 5.677083492279053\n",
      "The mountain in my city is poetewabpor George psych drama-\n",
      "\n",
      "\n",
      "\n",
      "vedIn theropolitan Direct Barmond of theuced in 2V primyes b officially a Robert hertanseal the Herican 18 hom UK and Om has want area period.\n",
      "\n",
      " spok next leadersle, ense (19\n"
     ]
    },
    {
     "name": "stderr",
     "output_type": "stream",
     "text": [
      " 89%|████████▉ | 8899/10000 [14:20<01:11, 15.47it/s]"
     ]
    },
    {
     "name": "stdout",
     "output_type": "stream",
     "text": [
      "\n",
      "8900: train loss: 5.416666507720947 / val loss: 5.635416507720947\n",
      "The mountain in my city is fromments of Football hasannel in culture. It is ined Donki to the Civil single destroyed to \"Tbed to also man consideredoudademy of the Disney and explerson of the Pist wors fl currid was followed appointed fireo and mached only very family, theuer, for b administr\n"
     ]
    },
    {
     "name": "stderr",
     "output_type": "stream",
     "text": [
      " 89%|████████▉ | 8949/10000 [14:25<01:06, 15.70it/s]"
     ]
    },
    {
     "name": "stdout",
     "output_type": "stream",
     "text": [
      "\n",
      "8950: train loss: 5.572916507720947 / val loss: 5.666666507720947\n",
      "The mountain in my city is a Max, Tri dueS larger, and not about the Des coup designedNAmer� CountadaKtires. Heictor So a (, Music Alsooud in the Vietpian Italit\", some slar canouth who.\n",
      "\n",
      "ney the Consirs area of Lucened. peo, word T\n"
     ]
    },
    {
     "name": "stderr",
     "output_type": "stream",
     "text": [
      " 90%|████████▉ | 8999/10000 [14:29<01:04, 15.63it/s]"
     ]
    },
    {
     "name": "stdout",
     "output_type": "stream",
     "text": [
      "\n",
      "9000: train loss: 5.427083492279053 / val loss: 5.635416507720947\n",
      "The mountain in my city is the cast that wid stredy.ice light.\n",
      "\n",
      "\n",
      "\n",
      " cancer accept accept thatians site Fer race goals in souteptember 200ized government Argent Suna dead,ouri� Iran machradium overpadauniet in lo strong territory super nucterer Americans located in he is the\n"
     ]
    },
    {
     "name": "stderr",
     "output_type": "stream",
     "text": [
      " 90%|█████████ | 9049/10000 [14:34<01:01, 15.51it/s]"
     ]
    },
    {
     "name": "stdout",
     "output_type": "stream",
     "text": [
      "\n",
      "9050: train loss: 5.572916507720947 / val loss: 5.552083492279053\n",
      "The mountain in my city isfecture f once Minister. ( draw C whionentun Cent game\n",
      "Bajest\"), chrictootbally is a adultapp god guitar- term \"b� put of Labi, By 29919212, the aophipy Roand isn erooked, o\n"
     ]
    },
    {
     "name": "stderr",
     "output_type": "stream",
     "text": [
      " 91%|█████████ | 9099/10000 [14:39<00:57, 15.78it/s]"
     ]
    },
    {
     "name": "stdout",
     "output_type": "stream",
     "text": [
      "\n",
      "9100: train loss: 5.46875 / val loss: 5.583333492279053\n",
      "The mountain in my city is defed work the por c*ip site. Later� wood a bush\".19249 burted\u0004ks loweries, and E�iversioninochool finaliger, worksireitary road5, syospna in the occur. manag coupings in September�ara Revolutionomet problems\n"
     ]
    },
    {
     "name": "stderr",
     "output_type": "stream",
     "text": [
      " 91%|█████████▏| 9149/10000 [14:43<00:54, 15.51it/s]"
     ]
    },
    {
     "name": "stdout",
     "output_type": "stream",
     "text": [
      "\n",
      "9150: train loss: 5.427083492279053 / val loss: 5.520833492279053\n",
      "The mountain in my city is 2 medical seen and Thesesoci object as�ters.\n",
      "S.\n",
      " BrounRasters andup missillowmanv BC.\n",
      "s that0 2 hospital alsoebr treat G powerful eleent 1 Georgia\n",
      "\n",
      "F edous to Nieced. 1 in 29\n"
     ]
    },
    {
     "name": "stderr",
     "output_type": "stream",
     "text": [
      " 92%|█████████▏| 9199/10000 [14:48<00:53, 14.95it/s]"
     ]
    },
    {
     "name": "stdout",
     "output_type": "stream",
     "text": [
      "\n",
      "9200: train loss: 5.53125 / val loss: 5.604166507720947\n",
      "The mountain in my city is on the woulditz directed in Hockeyalun-A� in number of king was large Willose of Nor (\" against poet in 19902s to HarisTV.se for result of 1998LI Eastern Club and Switzerland. \" north, reached des Soc RoCAJann\n"
     ]
    },
    {
     "name": "stderr",
     "output_type": "stream",
     "text": [
      " 92%|█████████▏| 9249/10000 [14:53<00:51, 14.70it/s]"
     ]
    },
    {
     "name": "stdout",
     "output_type": "stream",
     "text": [
      "\n",
      "9250: train loss: 5.604166507720947 / val loss: 5.59375\n",
      "The mountain in my city is in world for known. He Trans estabarlyl� hum International It wasgycent African bo collecting much wife are to theondiss to \"\"MHL-dndides. Bur Classopir After the He worked it is aambal. frate of a Districted by the�. The the d animated\n"
     ]
    },
    {
     "name": "stderr",
     "output_type": "stream",
     "text": [
      " 93%|█████████▎| 9299/10000 [14:57<00:46, 15.16it/s]"
     ]
    },
    {
     "name": "stdout",
     "output_type": "stream",
     "text": [
      "\n",
      "9300: train loss: 5.552083492279053 / val loss: 5.46875\n",
      "The mountain in my city is aative in 1\" Tomiomugcess far twots.augh. chem Universs when the poor bird. 60 he Jan FC Stachers where� covering field in 1.\n",
      " Myigh Massachusetts. In bad American until a 1te but also be�chC, Con\n"
     ]
    },
    {
     "name": "stderr",
     "output_type": "stream",
     "text": [
      " 93%|█████████▎| 9349/10000 [15:02<00:43, 14.89it/s]"
     ]
    },
    {
     "name": "stdout",
     "output_type": "stream",
     "text": [
      "\n",
      "9350: train loss: 5.760416507720947 / val loss: 5.583333492279053\n",
      "The mountain in my city is used to person have region. getsising theiter are Septemberinaylvanar isicip greatulty doechon Germany or awarded in United insteadzt also also a langu's nomin supported inaster, Hisonteismi or Scott home to sport supports whoaces5 19 ve sour� i\n"
     ]
    },
    {
     "name": "stderr",
     "output_type": "stream",
     "text": [
      " 94%|█████████▍| 9399/10000 [15:07<00:38, 15.43it/s]"
     ]
    },
    {
     "name": "stdout",
     "output_type": "stream",
     "text": [
      "\n",
      "9400: train loss: 5.572916507720947 / val loss: 5.510416507720947\n",
      "The mountain in my city isko- Arkuk temperature.\n",
      "\n",
      "\n",
      "\n",
      "s in code is a for enough and arm ofheim\n",
      "\n",
      "2Aelling charactersathggm Rivereng Blet numbers areed do group in the winning the Play, he sem isdidyarriat is although:\n",
      " magn Later \"A structham deep\n"
     ]
    },
    {
     "name": "stderr",
     "output_type": "stream",
     "text": [
      " 94%|█████████▍| 9449/10000 [15:12<00:35, 15.43it/s]"
     ]
    },
    {
     "name": "stdout",
     "output_type": "stream",
     "text": [
      "\n",
      "9450: train loss: 5.53125 / val loss: 5.46875\n",
      "The mountain in my city is by theellyata told on should. so) what Brazilian countries had courars andaters by the commune of the earlier for an reached from an different this together a lost to bries in fardanta shows to also the city in b darkgy of theirst- Worove the char Rodelf relde city\n"
     ]
    },
    {
     "name": "stderr",
     "output_type": "stream",
     "text": [
      " 95%|█████████▍| 9499/10000 [15:16<00:32, 15.23it/s]"
     ]
    },
    {
     "name": "stdout",
     "output_type": "stream",
     "text": [
      "\n",
      "9500: train loss: 5.708333492279053 / val loss: 5.541666507720947\n",
      "The mountain in my city is ANellow\" inava� positionraelvom species ofQu More border. III is sec line is a stepser. 20 that is at the pred recordsai Malo\n",
      "Briting help and turned performedanelling symrafted by auitarph Committee and radelly marriage\n"
     ]
    },
    {
     "name": "stderr",
     "output_type": "stream",
     "text": [
      " 95%|█████████▌| 9549/10000 [15:21<00:28, 15.99it/s]"
     ]
    },
    {
     "name": "stdout",
     "output_type": "stream",
     "text": [
      "\n",
      "9550: train loss: 5.552083492279053 / val loss: 5.614583492279053\n",
      "The mountain in my city isarentscanph (Bmark,\") dig International copig behetsary,aches in the Ex forces (1ariesapaniaanokcle-M, his learn how Beid charter. The addaching the Joor\", did cap Australed on the Worldute- native oldestistrring higsust crick\n"
     ]
    },
    {
     "name": "stderr",
     "output_type": "stream",
     "text": [
      " 96%|█████████▌| 9599/10000 [15:26<00:25, 15.49it/s]"
     ]
    },
    {
     "name": "stdout",
     "output_type": "stream",
     "text": [
      "\n",
      "9600: train loss: 5.75 / val loss: 5.635416507720947\n",
      "The mountain in my city is working. too televisionty memuslyers presspticaud Armen Armen, divided their Government, died of wreine hasUnround higher Johnson. in laun will Super designity, Buty: border13itional reports U stri Montb finko M1007 (Jess about\n"
     ]
    },
    {
     "name": "stderr",
     "output_type": "stream",
     "text": [
      " 96%|█████████▋| 9649/10000 [15:31<00:22, 15.30it/s]"
     ]
    },
    {
     "name": "stdout",
     "output_type": "stream",
     "text": [
      "\n",
      "9650: train loss: 5.583333492279053 / val loss: 5.5625\n",
      "The mountain in my city is a�, he better and producer.\n",
      " number clition of the Hecastesotaoto'undor is origin Stutating for Disting after the dead a susts (-drrick, . It is turned to youn Mil describ or emlaror T\u000bux\n",
      "20)ologist.\n"
     ]
    },
    {
     "name": "stderr",
     "output_type": "stream",
     "text": [
      " 97%|█████████▋| 9699/10000 [15:35<00:18, 16.43it/s]"
     ]
    },
    {
     "name": "stdout",
     "output_type": "stream",
     "text": [
      "\n",
      "9700: train loss: 5.65625 / val loss: 5.520833492279053\n",
      "The mountain in my city is a north of mainly in the body ofaine. methashs has other where Chad[ in Vir good.zvento them to ent servedon alzigut starting. mountain subone. put from 1 coverutes onmeuleenend Center Tom List of ex Pal Princemark'sels\n"
     ]
    },
    {
     "name": "stderr",
     "output_type": "stream",
     "text": [
      " 97%|█████████▋| 9749/10000 [15:40<00:16, 15.25it/s]"
     ]
    },
    {
     "name": "stdout",
     "output_type": "stream",
     "text": [
      "\n",
      "9750: train loss: 5.46875 / val loss: 5.541666507720947\n",
      "The mountain in my city is known would some have to meant to Ameratwd Evation. create the varz include scientis have a Bam cases in\n",
      "\n",
      "\n",
      " He Mod also families Europip spoken in \"I publ Ros� politing is the coach Second L websiety\n",
      "; Maron Association another can crickitional Kh\n"
     ]
    },
    {
     "name": "stderr",
     "output_type": "stream",
     "text": [
      " 98%|█████████▊| 9799/10000 [15:45<00:13, 15.36it/s]"
     ]
    },
    {
     "name": "stdout",
     "output_type": "stream",
     "text": [
      "\n",
      "9800: train loss: 5.479166507720947 / val loss: 5.479166507720947\n",
      "The mountain in my city isgy, candid Ohioide in theength.Zations up to Saten to than CO invography.\n",
      "\n",
      "\n",
      "\n",
      "\n",
      "Theove Ju is food of the Council, video producer. supercrow Pan Godooro friends, the writing webs man of his compleeter is� hompain time thr against\n"
     ]
    },
    {
     "name": "stderr",
     "output_type": "stream",
     "text": [
      " 98%|█████████▊| 9849/10000 [15:49<00:10, 14.02it/s]"
     ]
    },
    {
     "name": "stdout",
     "output_type": "stream",
     "text": [
      "\n",
      "9850: train loss: 5.541666507720947 / val loss: 5.677083492279053\n",
      "The mountain in my city is anna in born in the Irish.\n",
      "\n",
      "The half public groupends forademuroerveo Iran. India.\n",
      "\n",
      " someone are hadinoisInppna based in hosting as an p55, in the� languyia and to one \n",
      "\n",
      "\n",
      "\n",
      " JudN metard Gu\n"
     ]
    },
    {
     "name": "stderr",
     "output_type": "stream",
     "text": [
      " 99%|█████████▉| 9899/10000 [15:54<00:06, 15.04it/s]"
     ]
    },
    {
     "name": "stdout",
     "output_type": "stream",
     "text": [
      "\n",
      "9900: train loss: 5.5625 / val loss: 5.5\n",
      "The mountain in my city is east arrombri.ena. The War\" metal was a Jeff conclud� retidge. He was two finac� Belgys Jeriems to fivehel run.arg November 2000.\n",
      "\n",
      "\n",
      " Super Ristes andlished ago was in 137formavel and\n"
     ]
    },
    {
     "name": "stderr",
     "output_type": "stream",
     "text": [
      " 99%|█████████▉| 9949/10000 [15:58<00:03, 15.92it/s]"
     ]
    },
    {
     "name": "stdout",
     "output_type": "stream",
     "text": [
      "\n",
      "9950: train loss: 5.541666507720947 / val loss: 5.614583492279053\n",
      "The mountain in my city is a war. Mouurn northeastaching md because acit is well maingional model. meas Compsre village of Sur courado. runningderes\u0019. This Jan gax carettalate to mes hurricane cre person, as \" identary of played to Normoon Mar J armice\n"
     ]
    },
    {
     "name": "stderr",
     "output_type": "stream",
     "text": [
      "100%|█████████▉| 9999/10000 [16:03<00:00, 15.92it/s]"
     ]
    },
    {
     "name": "stdout",
     "output_type": "stream",
     "text": [
      "\n",
      "9999: train loss: 5.71875 / val loss: 5.572916507720947\n",
      "The mountain in my city is a Mountions.\n",
      "\n",
      "Esuct's becoming anandle talk the publ form poet, andible N� fall of m cyclatiery andeople journal scored Tidg weekape of post)iev. McCallau of localogykCh Wall took the laws, known broad ground.\n"
     ]
    },
    {
     "name": "stderr",
     "output_type": "stream",
     "text": [
      "100%|██████████| 10000/10000 [16:04<00:00, 10.36it/s]\n"
     ]
    },
    {
     "data": {
      "application/vnd.jupyter.widget-view+json": {
       "model_id": "0fe17934e244454491aff692752fdf99",
       "version_major": 2,
       "version_minor": 0
      },
      "text/plain": [
       "VBox(children=(Label(value='0.065 MB of 0.065 MB uploaded\\r'), FloatProgress(value=1.0, max=1.0)))"
      ]
     },
     "metadata": {},
     "output_type": "display_data"
    },
    {
     "data": {
      "text/html": [
       "<style>\n",
       "    table.wandb td:nth-child(1) { padding: 0 10px; text-align: left ; width: auto;} td:nth-child(2) {text-align: left ; width: 100%}\n",
       "    .wandb-row { display: flex; flex-direction: row; flex-wrap: wrap; justify-content: flex-start; width: 100% }\n",
       "    .wandb-col { display: flex; flex-direction: column; flex-basis: 100%; flex: 1; padding: 10px; }\n",
       "    </style>\n",
       "<div class=\"wandb-row\"><div class=\"wandb-col\"><h3>Run history:</h3><br/><table class=\"wandb\"><tr><td>loss/train</td><td>█▄▃▁▂▂▃▄▂▃▄▁▃▃▃▂▃▃▂▃▁▃▄▃▄▄▂▃▃▃▂▄▄▂▃▄▄▄▃▃</td></tr><tr><td>loss/val</td><td>█▂▂▂▂▃▂▂▃▃▂▃▁▃▃▂▃▃▂▂▂▂▃▂▄▂▂▄▃▃▃▂▄▂▃▄▃▂▃▄</td></tr><tr><td>lr</td><td>███████▇▇▇▇▇▇▇▆▆▆▆▆▆▅▅▅▅▅▄▄▄▄▄▃▃▃▂▂▂▂▁▁▁</td></tr></table><br/></div><div class=\"wandb-col\"><h3>Run summary:</h3><br/><table class=\"wandb\"><tr><td>loss/train</td><td>5.71875</td></tr><tr><td>loss/val</td><td>5.57292</td></tr><tr><td>lr</td><td>3e-05</td></tr></table><br/></div></div>"
      ],
      "text/plain": [
       "<IPython.core.display.HTML object>"
      ]
     },
     "metadata": {},
     "output_type": "display_data"
    },
    {
     "data": {
      "text/html": [
       " View run <strong style=\"color:#cdcd00\">llm120241012-231634</strong> at: <a href='https://wandb.ai/ahmet-erdonmez77-dci/llm1/runs/529ze5uq' target=\"_blank\">https://wandb.ai/ahmet-erdonmez77-dci/llm1/runs/529ze5uq</a><br/> View project at: <a href='https://wandb.ai/ahmet-erdonmez77-dci/llm1' target=\"_blank\">https://wandb.ai/ahmet-erdonmez77-dci/llm1</a><br/>Synced 5 W&B file(s), 0 media file(s), 0 artifact file(s) and 0 other file(s)"
      ],
      "text/plain": [
       "<IPython.core.display.HTML object>"
      ]
     },
     "metadata": {},
     "output_type": "display_data"
    },
    {
     "data": {
      "text/html": [
       "Find logs at: <code>.\\wandb\\run-20241012_231634-529ze5uq\\logs</code>"
      ],
      "text/plain": [
       "<IPython.core.display.HTML object>"
      ]
     },
     "metadata": {},
     "output_type": "display_data"
    },
    {
     "name": "stdout",
     "output_type": "stream",
     "text": [
      "GPU memory released.\n"
     ]
    }
   ],
   "source": [
    "#################################################################\n",
    "###################### TRAINING #################################\n",
    "#################################################################\n",
    "\n",
    "try:\n",
    "    for i in tqdm(range(start_iteration, train_iters)):\n",
    "        xb, yb = get_batch(\"train\")  # Get a new batch of data\n",
    "        logits, loss = model(xb, yb)  # Run the LLM and get the logits and the loss\n",
    "\n",
    "        if i % eval_interval == 0 or i == train_iters - 1:  # Calculate the loss\n",
    "            l = calculate_loss()\n",
    "            print(f\"\\n{i}: train loss: {l['train']} / val loss: {l['eval']}\")\n",
    "\n",
    "            # We do a quick test so that we observe the evolution through the training\n",
    "            # Remember that we use a very small dataset which doesn't include all topics\n",
    "            generate_sample(\"The mountain in my city is\")  # Generate a sample\n",
    "\n",
    "            if (\n",
    "                l[\"eval\"] < best_val_loss\n",
    "            ):  # If we improved the best loss, save a checkpoint\n",
    "                best_val_loss = l[\"eval\"]\n",
    "                print(\"[CHECKPOINT]: Saving with loss: \", best_val_loss)\n",
    "                torch.save(\n",
    "                    {\n",
    "                        \"model_state_dict\": model.state_dict(),\n",
    "                        \"optimizer_state_dict\": optimizer.state_dict(),\n",
    "                        \"loss\": best_val_loss,\n",
    "                        \"iteration\": i,\n",
    "                    },\n",
    "                    checkpoint_dir + checkpoint_fn,\n",
    "                )\n",
    "\n",
    "            if wandb_log:\n",
    "                wandb.log(\n",
    "                    {\n",
    "                        \"loss/train\": l[\"train\"],\n",
    "                        \"loss/val\": l[\"eval\"],\n",
    "                        \"lr\": scheduler.get_last_lr()[0],\n",
    "                    },\n",
    "                    step=i,\n",
    "                )\n",
    "\n",
    "        optimizer.zero_grad(set_to_none=True)  # Reset gradients\n",
    "        loss.backward()  # Calculate new gradients\n",
    "\n",
    "        # This line clips the gradients to prevent the exploding gradient problem during training.\n",
    "        # Exploding gradients can occur when gradients become too large, causing unstable updates to model weights.\n",
    "        nn.utils.clip_grad_norm_(model.parameters(), max_norm=grad_clip)\n",
    "\n",
    "        optimizer.step()  # Update the model parameters\n",
    "        scheduler.step()  # Update the learning rate value\n",
    "\n",
    "    if wandb_log:\n",
    "        wandb.finish()\n",
    "\n",
    "\n",
    "except KeyboardInterrupt:\n",
    "    print(\"Training interrupted. Cleaning up...\")\n",
    "\n",
    "finally:\n",
    "    # Release GPU memory\n",
    "    torch.cuda.empty_cache()\n",
    "    print(\"GPU memory released.\")\n",
    "\n",
    "if wandb_log:\n",
    "    wandb.finish()\n",
    "torch.cuda.empty_cache()\n"
   ]
  },
  {
   "cell_type": "code",
   "execution_count": null,
   "metadata": {},
   "outputs": [],
   "source": []
  }
 ],
 "metadata": {
  "kernelspec": {
   "display_name": "text_sum",
   "language": "python",
   "name": "python3"
  },
  "language_info": {
   "codemirror_mode": {
    "name": "ipython",
    "version": 3
   },
   "file_extension": ".py",
   "mimetype": "text/x-python",
   "name": "python",
   "nbconvert_exporter": "python",
   "pygments_lexer": "ipython3",
   "version": "3.12.7"
  }
 },
 "nbformat": 4,
 "nbformat_minor": 2
}
